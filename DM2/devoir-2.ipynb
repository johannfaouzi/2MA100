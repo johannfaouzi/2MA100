{
 "cells": [
  {
   "cell_type": "markdown",
   "metadata": {},
   "source": [
    "# 2MA100 - Devoir Maison 2\n",
    "**Sorbonne Université - 30 mars 2020**\n",
    "\n",
    "Les exercices de ce devoir maison noté sur 20 points doivent être rendus au choix au format **Notebook** (`.ipynb`) ou **Script** (`.py`) en un ou plusieurs fichiers au plus tard le **24 avril 2020** à 23h59 sur [moodle](https://moodle-sciences.upmc.fr/moodle-2019/).\n",
    "\n",
    "\n",
    "**Attention Plagiat !**\n",
    "\n",
    "\n",
    "Les devoirs maisons doivent être codés et rendus de manière individuelle. A titre d'information,\n",
    "voici une définition du plagiat adaptée du [Memento de l'Université de Genève](https://memento.unige.ch/doc/0008/) :\n",
    "\n",
    "*Le plagiat consiste à insérer, dans un travail académique, des formulations, des\n",
    "phrases, des passages, des morceaux de code, des images, de même que des idées ou\n",
    "analyses repris de travaux d'autres auteurs, en les faisant passer pour siens.*\n",
    "\n",
    "En particulier, le copier-coller à partir de sources trouvées sur Internet ou sur des travaux d'autres\n",
    "étudiant·es sans citer les sources est considéré comme du plagiat et implique une note zéro.\n",
    "Le plagiat constitue également une tentative de tricherie sanctionnée par\n",
    "le règlement de l'université. La solution est d'indiquer dans vos devoirs tout de ce qui ne vient\n",
    "pas de vous en mentionnant les sources (page Internet, livres, autre étudiant·e,...). Tout les\n",
    "fichiers rendus seront analysés automatiquement avec un logiciel de détection des similarités\n",
    "(entre étudiant·es et depuis Internet).\n",
    "\n",
    "\n",
    "\n",
    "\n",
    "\n",
    "<!-- --- begin exercise --- -->\n",
    "\n",
    "# Exercice 1: Evaluation polynomiale\n",
    "\n",
    "On s'intéresse ici à l'évaluation d'un polynôme de la forme,"
   ]
  },
  {
   "cell_type": "markdown",
   "metadata": {},
   "source": [
    "$$\n",
    "p(x) = a_0 + a_1 x + a_2 x^2 + \\ldots + a_n x^n = \\sum_{i=0}^n a_i x^i .\n",
    "$$"
   ]
  },
  {
   "cell_type": "markdown",
   "metadata": {},
   "source": [
    "**a)**\n",
    "Écrire une fonction Python qui étant donné un réel $x$ et un tableau contenant les valeurs $a_0, a_1, \\ldots, a_n$ renvoit la valeur $p(x)$ en utilisant l'expression de la somme ci-dessus.\n",
    "\n"
   ]
  },
  {
   "cell_type": "markdown",
   "metadata": {},
   "source": [
    "\n",
    "Pour calculer cette quantité d'une autre manière, on peut remarquer que $p(x)$ peut être vu comme le produit scalaire entre le vecteur $a:=(a_0, a_1, \\ldots, a_n)^T$ et un second vecteur (à déterminer) dépendant de $x$.\n",
    "\n",
    "**b)**\n",
    "Écrire une seconde fonction Python qui étant donné un réel $x$ et un tableau contenant les valeurs $a_0, a_1, \\ldots, a_n$ renvoie la valeur $p(x)$ en utilisant le produit scalaire mentionné ci-dessus.\n",
    "\n"
   ]
  },
  {
   "cell_type": "markdown",
   "metadata": {},
   "source": [
    "\n",
    "Enfin on peut également utiliser la méthode de Horner qui revient à réécrire le polynôme comme suit,"
   ]
  },
  {
   "cell_type": "markdown",
   "metadata": {},
   "source": [
    "$$\n",
    "p(x) = a_0 + x \\left( \\, a_1  + x \\left( a_2 + \\ldots + x \\, (a_{n-1} + a_n x ) \\, \\right) \\, \\right)\n",
    "$$"
   ]
  },
  {
   "cell_type": "markdown",
   "metadata": {},
   "source": [
    "L'évaluation du polynôme $p(x)$ est alors donnée par la valeur $\\beta$ définit récursivement par"
   ]
  },
  {
   "cell_type": "markdown",
   "metadata": {},
   "source": [
    "$$\n",
    "\\beta = a_n  \\,, \\quad\n",
    "\\beta = a_{n-1} + \\beta \\, x \\,, \\quad\n",
    "\\cdots \\quad\n",
    "\\beta  =   a_0 + \\beta \\, x \\,.\n",
    "$$"
   ]
  },
  {
   "cell_type": "markdown",
   "metadata": {},
   "source": [
    "**c)**\n",
    "Écrire une nouvelle fonction Python qui étant donné un réel $x$ et un tableau contenant les valeurs $a_0, a_1, \\ldots, a_n$ renvoie la valeur $p(x)$ en utilisant cette fois-ci la méthode de Horner.\n",
    "\n"
   ]
  },
  {
   "cell_type": "markdown",
   "metadata": {},
   "source": [
    "\n",
    "**d)**\n",
    "Comparer la rapidité de ces trois fonctions pour la valeur $x$ de votre choix et un polynôme de degré $85$ et dont les coefficients pourront être générés aléatoirement.\n",
    "\n"
   ]
  },
  {
   "cell_type": "markdown",
   "metadata": {},
   "source": [
    "\n",
    "\n",
    "<!-- --- end exercise --- -->\n",
    "\n",
    "\n",
    "\n",
    "\n",
    "<!-- --- begin exercise --- -->\n",
    "\n",
    "# Exercice 2: Urnes de Polya\n",
    "\n",
    "Une urne contient initialement (à $t=0$) $r_0$ boules rouges et $b_0$ boules blanches. À chaque instant, on tire uniformément une boule au hasard dans l'urne. On remet ensuite cette boule dans l'urne et on y ajoute une boule de la même couleur. Un tel système s'appelle une *urne de Polya*.\n",
    "Le but de cet exercice est d'étudier le comportement de la fraction de boules rouges dans l'urne, c'est-à-dire le nombre de boules rouges, sur le nombre total.\n",
    "On appellera respectivement $r_n$ et $b_n$ le nombre de boules rouges et blanches présentes dans l'urne à l'instant $n$.\n",
    "\n",
    "\n",
    "**a)**\n",
    "Écrire une fonction `densite` prenant en argument un tuple représentant le nombre de boules rouges et blanches dans une urne, et qui renvoie la densité de boules rouges.\n",
    "\n"
   ]
  },
  {
   "cell_type": "markdown",
   "metadata": {},
   "source": [
    "\n",
    "\n",
    "On veut construire de manière récursive la distribution du nombre de boules rouges au temps $n$, c'est à dire la liste des probabilités que le nombre de boules rouges soit égal à un entier donné $k$ (qui sera l'indice de la liste). Cela se fait en écrivant deux fonctions : `next_dist_rouge`, prenant en argument la distribution à un instant $n$ et qui renvoie celle à l'instant $n+1$, qui est donc la fonction qui fait tout le travail, et `dist_rouge` qui est la fonction d'enrobage, prenant en argument $r_0$, $b_0$ et le temps $n$ et qui nous renvoie la distribution au temps $n$ par un appel récursif.\n",
    "On utilisera les faits utiles suivants (faire un petit dessin):\n",
    "* la distribution passée en argument à `next_dist_rouge` est une liste `r` et `r[k]` représente la probabilité d'avoir `k` boules rouges dans l'urne à l'instant $n$. Les indices pour `r` varient de 0 au nombre total `s` de boules à l'instant $n$.\n",
    "\n",
    "* au temps $n+1$, pour avoir $k$ boules rouges, il faut\n",
    "\n",
    "  * soit avoir eu $k$ boules rouges à l'instant précédent et ne pas avoir tiré une boule rouge\n",
    "\n",
    "  * soit avoir eu $k-1$ boules rouges à l'instant précédent et avoir tiré une boule rouge\n",
    "\n",
    "\n",
    "* si $n=0$, le résultat de `dist_rouge` est complètement déterministe et les coefficients de la liste ne sont que des 0 et 1, dépendant de $r_0$ et $b_0$\n",
    "\n",
    "**b)**\n",
    "Écrire les fonctions `next_dist_rouge` et `dist_rouge` en utilisant les indications fournies. Regarder le résultat de `dist_rouge(0,1,n)` et `dist_rouge(1,1,n)` pour différentes valeurs de `n` (1,2,5,10,20,...) et commenter.\n",
    "\n"
   ]
  },
  {
   "cell_type": "markdown",
   "metadata": {},
   "source": [
    "\n",
    "\n",
    "Plutôt que de calculer théoriquement pour chaque $n$, la suite des  probabilités théoriques, nous allons faire des statistiques sur un grand nombre d'évolutions d'urnes de Polya, au bout d'un grand nombre d'étapes. Pour cela, il nous faut une fonction pour faire évoluer une urne de Polya.\n",
    "\n",
    "**c)**\n",
    "Définir une fonction `polya_step(r,b)` qui, à partir de la composition d'une urne passée sous forme de deux paramètres `r` et `b`, renvoie l'évolution (aléatoire) après une étape de la composition de l'urne sous forme d'un tuple `(r',b')`. Définir également une fonction `polya(r0,b0,N)` prenant en argument $r_0$, $b_0$ et $N$ en paramètres et renvoyant la composition (aléatoire) d'une urne de Polya au bout de $N$ étapes, aussi sous forme de tuple `(r_N,b_N)`.\n",
    "\n"
   ]
  },
  {
   "cell_type": "markdown",
   "metadata": {},
   "source": [
    "\n",
    "**d)**\n",
    "Écrire une fonction `data_rdens_polya(r0,b0,N,nbexp)` qui renvoie une liste de longueur `nbexp` contenant les densités de `nbexp` réalisations d'urnes de Polya au temps `N` initialisées avec `r0` boules rouges et `b0` boules blanches.\n",
    "\n"
   ]
  },
  {
   "cell_type": "markdown",
   "metadata": {},
   "source": [
    "\n",
    "**e)**\n",
    "Stocker dans une variable le résultat de `data_rdens_polya(2,3,1000,10000)` et dessiner un histogramme pour voir la répartition des densités. Attention, on veut que les hauteurs des barres soient normalisées pour que leur surface représente la proportion de points, et non pour qu'elles donnent le nombre de points par *bin*.\n",
    "\n",
    "**Indication:** Une bonne règle de départ est de choisir le nombre de boites (*bins*) pour un histogramme de l'ordre de la racine carrée du nombre de points. Consulter la documentation de la fonction de `hist` de Matplotlib.\n",
    "\n"
   ]
  },
  {
   "cell_type": "markdown",
   "metadata": {},
   "source": [
    "\n",
    "\n",
    "\n",
    "<!-- --- end exercise --- -->\n",
    "\n",
    "\n",
    "\n",
    "\n",
    "<!-- --- begin exercise --- -->\n",
    "\n",
    "# Exercice 3: Méthode des moindres carrés\n",
    "\n",
    "Le fichier ci-joint `population.txt` contient les données statistiques de la population de quelques communes françaises ventilée par le sexe et l'âge de la personne.\n",
    "Les premières lignes de ce fichier sont:"
   ]
  },
  {
   "cell_type": "markdown",
   "metadata": {},
   "source": [
    "        CODGEO;LIBGEO;SEXE;AGED100;NB\n",
    "        13201;Marseille 1er Arrondissement;1;000;293.98064823\n",
    "        13201;Marseille 1er Arrondissement;1;001;311.40411923\n",
    "        13201;Marseille 1er Arrondissement;1;002;257.55156994\n",
    "        13201;Marseille 1er Arrondissement;1;003;249.26498077\n"
   ]
  },
  {
   "cell_type": "markdown",
   "metadata": {},
   "source": [
    "Le premier champ est le code postal,\n",
    "le second la dénomination de la commune, le troisième le sexe (1 pour masculin, 2 pour féminin),\n",
    "la quatrième la tranche d'âge et le dernier la population.\n",
    "Par exemple la seconde ligne du fichier signifie qu'il y a 293.98 personnes de sexe masculin ayant 0 an dans le 1er arrondissement de Marseille.\n",
    "\n",
    "\n",
    "**a)**\n",
    "Écrire une fonction `pop(code)` qui retourne sous forme de liste ou de vecteur Numpy la population par âge sans distinction homme-femme dans la commune de code postal `code`.\n",
    "Utiliser cette fonction pour déterminer le nombre total d'habitants dans les communes de code postal 13201 et 75102.\n",
    "\n"
   ]
  },
  {
   "cell_type": "markdown",
   "metadata": {},
   "source": [
    "\n",
    "**b)**\n",
    "Écrire une fonction `plot_pop(code)` affichant graphiquement les fractions de la population\n",
    "(normalisées par la population totale de la commune) en fonction de l'âge sans distinction homme-femme dans la commune de code postal `code`.\n",
    "Tester pour les communes de code postal 13201 et 75102.\n",
    "\n"
   ]
  },
  {
   "cell_type": "markdown",
   "metadata": {},
   "source": [
    "\n",
    "Pour une commune donnée, si on dénote par $p(a)$ la fraction de la population ayant l'âge $a$,\n",
    "on cherche les coefficients $r_0$, $r_1$, $r_2$ tels que la loi"
   ]
  },
  {
   "cell_type": "markdown",
   "metadata": {},
   "source": [
    "$$\n",
    "p(a) = r_0+r_1a+r_2a^2\n",
    "$$"
   ]
  },
  {
   "cell_type": "markdown",
   "metadata": {},
   "source": [
    "soit la mieux satisfaite pour les âges $a\\geq25$.\n",
    "Pour cela on résout le problème aux moindres carrés"
   ]
  },
  {
   "cell_type": "markdown",
   "metadata": {},
   "source": [
    "$$\n",
    "\\min_{\\vec{r}\\in \\mathbb{R}^3}||X\\vec{r}-\\vec{p}||^2\n",
    "$$"
   ]
  },
  {
   "cell_type": "markdown",
   "metadata": {},
   "source": [
    "où en notant le vecteur des âges $\\vec{a}=(25,26,\\dots,100)$,\n",
    "$X$ est la matrice $76\\times 3$ telle que $X_{i,1}=1$, $X_{i,2}=a_i$, $X_{i,3}=a_i^2$ et\n",
    "$\\vec{p}$ est le vecteur des populations par âge $p_i = p(a_i)$.\n",
    "La solution de ce problème est $\\vec{r} = (r_0,r_1,r_2)\\in \\mathbb{R}^3 $. Cette solution satisfait l'équation"
   ]
  },
  {
   "cell_type": "markdown",
   "metadata": {},
   "source": [
    "$$\n",
    "~^t\\!XX\\vec{r}=~^t\\!X\\vec{p}\n",
    "$$"
   ]
  },
  {
   "cell_type": "markdown",
   "metadata": {},
   "source": [
    "où $~^t\\!X$ désigne la transposée de $X$.\n",
    "Pour les communes de code postal 13201 et 75102, résoudre les questions suivantes:\n",
    "\n",
    "**c)**\n",
    "Pour la commune 13201, former la matrice $X$ et le vecteur $\\vec{p}$, puis déterminer la solution $\\vec{r}$.\n",
    "\n"
   ]
  },
  {
   "cell_type": "markdown",
   "metadata": {},
   "source": [
    "\n",
    "**d)**\n",
    "Pour les communes de code postal 13201 et 75102, tracer la courbe théorique $r_0+r_1a+r_2a^2$ en fonction de l'âge par dessus les données.\n",
    "\n"
   ]
  },
  {
   "cell_type": "markdown",
   "metadata": {},
   "source": [
    "\n",
    "<!-- --- end exercise --- -->"
   ]
  }
 ],
 "metadata": {
  "kernelspec": {
   "display_name": "Python [default]",
   "language": "python",
   "name": "python3"
  },
  "language_info": {
   "codemirror_mode": {
    "name": "ipython",
    "version": 3
   },
   "file_extension": ".py",
   "mimetype": "text/x-python",
   "name": "python",
   "nbconvert_exporter": "python",
   "pygments_lexer": "ipython3",
   "version": "3.5.2"
  }
 },
 "nbformat": 4,
 "nbformat_minor": 4
}
