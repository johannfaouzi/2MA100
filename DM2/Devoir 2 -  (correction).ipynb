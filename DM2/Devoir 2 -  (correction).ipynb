{
 "cells": [
  {
   "cell_type": "markdown",
   "metadata": {},
   "source": [
    "# 2MA100 - Devoir Maison 2\n",
    "\n",
    "**Sorbonne Université - 30 mars 2020**\n",
    "\n",
    "Les exercices de ce devoir maison noté sur 20 points doivent être rendus au choix au format **Notebook** (`.ipynb`) ou **Script** (`.py`) en un ou plusieurs fichiers au plus tard le **24 avril 2020** à 23h59 sur [moodle](https://moodle-sciences.upmc.fr/moodle-2019/).\n",
    "\n",
    "\n",
    "**Attention Plagiat !**\n",
    "\n",
    "\n",
    "Les devoirs maisons doivent être codés et rendus de manière individuelle. A titre d'information,\n",
    "voici une définition du plagiat adaptée du [Memento de l'Université de Genève](https://memento.unige.ch/doc/0008/) :\n",
    "\n",
    "*Le plagiat consiste à insérer, dans un travail académique, des formulations, des\n",
    "phrases, des passages, des morceaux de code, des images, de même que des idées ou\n",
    "analyses repris de travaux d'autres auteurs, en les faisant passer pour siens.*\n",
    "\n",
    "En particulier, le copier-coller à partir de sources trouvées sur Internet ou sur des travaux d'autres\n",
    "étudiant·es sans citer les sources est considéré comme du plagiat et implique une note zéro.\n",
    "Le plagiat constitue également une tentative de tricherie sanctionnée par\n",
    "le règlement de l'université. La solution est d'indiquer dans vos devoirs tout de ce qui ne vient\n",
    "pas de vous en mentionnant les sources (page Internet, livres, autre étudiant·e,...). Tout les\n",
    "fichiers rendus seront analysés automatiquement avec un logiciel de détection des similarités\n",
    "(entre étudiant·es et depuis Internet).\n",
    "\n",
    "\n",
    "\n",
    "\n",
    "\n",
    "<!-- --- begin exercise --- -->\n",
    "\n",
    "# Exercice 1: Evaluation polynomiale\n",
    "\n",
    "On s'intéresse ici à l'évaluation d'un polynôme de la forme,"
   ]
  },
  {
   "cell_type": "markdown",
   "metadata": {},
   "source": [
    "$$\n",
    "p(x) = a_0 + a_1 x + a_2 x^2 + \\ldots + a_n x^n = \\sum_{i=0}^n a_i x^i .\n",
    "$$"
   ]
  },
  {
   "cell_type": "code",
   "execution_count": 1,
   "metadata": {},
   "outputs": [],
   "source": [
    "import numpy as np"
   ]
  },
  {
   "cell_type": "markdown",
   "metadata": {},
   "source": [
    "**a)**\n",
    "Écrire une fonction Python qui étant donné un réel $x$ et un tableau contenant les valeurs $a_0, a_1, \\ldots, a_n$ renvoit la valeur $p(x)$ en utilisant l'expression de la somme ci-dessus.\n",
    "\n"
   ]
  },
  {
   "cell_type": "code",
   "execution_count": 2,
   "metadata": {},
   "outputs": [],
   "source": [
    "def evaluate_p_1(x, coef):\n",
    "    return np.sum([coef[i] * x ** i for i in range(len(coef))])"
   ]
  },
  {
   "cell_type": "markdown",
   "metadata": {},
   "source": [
    "\n",
    "Pour calculer cette quantité d'une autre manière, on peut remarquer que $p(x)$ peut être vu comme le produit scalaire entre le vecteur $a:=(a_0, a_1, \\ldots, a_n)^T$ et un second vecteur (à déterminer) dépendant de $x$.\n",
    "\n",
    "**b)**\n",
    "Écrire une seconde fonction Python qui étant donné un réel $x$ et un tableau contenant les valeurs $a_0, a_1, \\ldots, a_n$ renvoie la valeur $p(x)$ en utilisant le produit scalaire mentionné ci-dessus.\n",
    "\n"
   ]
  },
  {
   "cell_type": "code",
   "execution_count": 3,
   "metadata": {},
   "outputs": [],
   "source": [
    "def evaluate_p_2(x, coef):\n",
    "    return np.inner(coef, x ** np.arange(len(coef)))"
   ]
  },
  {
   "cell_type": "markdown",
   "metadata": {},
   "source": [
    "\n",
    "Enfin on peut également utiliser la méthode de Horner qui revient à réécrire le polynôme comme suit,"
   ]
  },
  {
   "cell_type": "markdown",
   "metadata": {},
   "source": [
    "$$\n",
    "p(x) = a_0 + x \\left( \\, a_1  + x \\left( a_2 + \\ldots + x \\, (a_{n-1} + a_n x ) \\, \\right) \\, \\right)\n",
    "$$"
   ]
  },
  {
   "cell_type": "markdown",
   "metadata": {},
   "source": [
    "L'évaluation du polynôme $p(x)$ est alors donnée par la valeur $\\beta$ définit récursivement par"
   ]
  },
  {
   "cell_type": "markdown",
   "metadata": {},
   "source": [
    "$$\n",
    "\\beta = a_n  \\,, \\quad\n",
    "\\beta = a_{n-1} + \\beta \\, x \\,, \\quad\n",
    "\\cdots \\quad\n",
    "\\beta  =   a_0 + \\beta \\, x \\,.\n",
    "$$"
   ]
  },
  {
   "cell_type": "markdown",
   "metadata": {},
   "source": [
    "**c)**\n",
    "Écrire une nouvelle fonction Python qui étant donné un réel $x$ et un tableau contenant les valeurs $a_0, a_1, \\ldots, a_n$ renvoie la valeur $p(x)$ en utilisant cette fois-ci la méthode de Horner.\n",
    "\n"
   ]
  },
  {
   "cell_type": "code",
   "execution_count": 4,
   "metadata": {},
   "outputs": [],
   "source": [
    "from numba import njit\n",
    "\n",
    "\n",
    "def evaluate_p_3(x, coef):\n",
    "    # Initialisation de beta\n",
    "    beta = coef[-1]\n",
    "    \n",
    "    # Mise à jour de beta\n",
    "    for i in range(2, len(coef) + 1):\n",
    "        beta = coef[-i] + beta * x\n",
    "\n",
    "    return beta\n",
    "\n",
    "\n",
    "@njit\n",
    "def evaluate_p_3_numba(x, coef):\n",
    "    # Initialisation de beta\n",
    "    beta = coef[-1]\n",
    "    \n",
    "    # Mise à jour de beta\n",
    "    for i in range(2, len(coef) + 1):\n",
    "        beta = coef[-i] + beta * x\n",
    "\n",
    "    return beta"
   ]
  },
  {
   "cell_type": "markdown",
   "metadata": {},
   "source": [
    "\n",
    "**d)**\n",
    "Comparer la rapidité de ces trois fonctions pour la valeur $x$ de votre choix et un polynôme de degré $85$ et dont les coefficients pourront être générés aléatoirement.\n",
    "\n"
   ]
  },
  {
   "cell_type": "code",
   "execution_count": 5,
   "metadata": {},
   "outputs": [],
   "source": [
    "coef = np.random.randn(86)\n",
    "x = 0.96423"
   ]
  },
  {
   "cell_type": "code",
   "execution_count": 6,
   "metadata": {},
   "outputs": [
    {
     "data": {
      "text/plain": [
       "(4.3621718430421845, 4.362171843042184, 4.3621718430421845, 4.3621718430421845)"
      ]
     },
     "execution_count": 6,
     "metadata": {},
     "output_type": "execute_result"
    }
   ],
   "source": [
    "evaluate_p_1(x, coef), evaluate_p_2(x, coef), evaluate_p_3(x, coef), evaluate_p_3_numba(x, coef)"
   ]
  },
  {
   "cell_type": "code",
   "execution_count": 7,
   "metadata": {},
   "outputs": [
    {
     "name": "stdout",
     "output_type": "stream",
     "text": [
      "32.9 µs ± 770 ns per loop (mean ± std. dev. of 7 runs, 10000 loops each)\n"
     ]
    }
   ],
   "source": [
    "%timeit evaluate_p_1(x, coef)"
   ]
  },
  {
   "cell_type": "code",
   "execution_count": 8,
   "metadata": {},
   "outputs": [
    {
     "name": "stdout",
     "output_type": "stream",
     "text": [
      "3.93 µs ± 18.6 ns per loop (mean ± std. dev. of 7 runs, 100000 loops each)\n"
     ]
    }
   ],
   "source": [
    "%timeit evaluate_p_2(x, coef)"
   ]
  },
  {
   "cell_type": "code",
   "execution_count": 9,
   "metadata": {},
   "outputs": [
    {
     "name": "stdout",
     "output_type": "stream",
     "text": [
      "23.5 µs ± 340 ns per loop (mean ± std. dev. of 7 runs, 10000 loops each)\n"
     ]
    }
   ],
   "source": [
    "%timeit evaluate_p_3(x, coef)"
   ]
  },
  {
   "cell_type": "code",
   "execution_count": 10,
   "metadata": {},
   "outputs": [
    {
     "name": "stdout",
     "output_type": "stream",
     "text": [
      "360 ns ± 2.03 ns per loop (mean ± std. dev. of 7 runs, 1000000 loops each)\n"
     ]
    }
   ],
   "source": [
    "%timeit evaluate_p_3_numba(x, coef)"
   ]
  },
  {
   "cell_type": "markdown",
   "metadata": {},
   "source": [
    "\n",
    "\n",
    "<!-- --- end exercise --- -->\n",
    "\n",
    "\n",
    "\n",
    "\n",
    "<!-- --- begin exercise --- -->\n",
    "\n",
    "# Exercice 2: Urnes de Polya\n",
    "\n",
    "Une urne contient initialement (à $t=0$) $r_0$ boules rouges et $b_0$ boules blanches. À chaque instant, on tire uniformément une boule au hasard dans l'urne. On remet ensuite cette boule dans l'urne et on y ajoute une boule de la même couleur. Un tel système s'appelle une *urne de Polya*.\n",
    "Le but de cet exercice est d'étudier le comportement de la fraction de boules rouges dans l'urne, c'est-à-dire le nombre de boules rouges, sur le nombre total.\n",
    "On appellera respectivement $r_n$ et $b_n$ le nombre de boules rouges et blanches présentes dans l'urne à l'instant $n$.\n",
    "\n",
    "\n",
    "**a)**\n",
    "Écrire une fonction `densite` prenant en argument un tuple représentant le nombre de boules rouges et blanches dans une urne, et qui renvoie la densité de boules rouges.\n",
    "\n"
   ]
  },
  {
   "cell_type": "code",
   "execution_count": 11,
   "metadata": {},
   "outputs": [],
   "source": [
    "def densite(tuplet):\n",
    "    rn, bn = tuplet\n",
    "    return rn / (bn + rn)"
   ]
  },
  {
   "cell_type": "markdown",
   "metadata": {},
   "source": [
    "\n",
    "\n",
    "On veut construire de manière récursive la distribution du nombre de boules rouges au temps $n$, c'est à dire la liste des probabilités que le nombre de boules rouges soit égal à un entier donné $k$ (qui sera l'indice de la liste). Cela se fait en écrivant deux fonctions : `next_dist_rouge`, prenant en argument la distribution à un instant $n$ et qui renvoie celle à l'instant $n+1$, qui est donc la fonction qui fait tout le travail, et `dist_rouge` qui est la fonction d'enrobage, prenant en argument $r_0$, $b_0$ et le temps $n$ et qui nous renvoie la distribution au temps $n$ par un appel récursif.\n",
    "On utilisera les faits utiles suivants (faire un petit dessin):\n",
    "* la distribution passée en argument à `next_dist_rouge` est une liste `r` et `r[k]` représente la probabilité d'avoir `k` boules rouges dans l'urne à l'instant $n$. Les indices pour `r` varient de 0 au nombre total `s` de boules à l'instant $n$.\n",
    "\n",
    "* au temps $n+1$, pour avoir $k$ boules rouges, il faut\n",
    "\n",
    "  * soit avoir eu $k$ boules rouges à l'instant précédent et ne pas avoir tiré une boule rouge\n",
    "\n",
    "  * soit avoir eu $k-1$ boules rouges à l'instant précédent et avoir tiré une boule rouge\n",
    "\n",
    "\n",
    "* si $n=0$, le résultat de `dist_rouge` est complètement déterministe et les coefficients de la liste ne sont que des 0 et 1, dépendant de $r_0$ et $b_0$\n",
    "\n",
    "**b)**\n",
    "Écrire les fonctions `next_dist_rouge` et `dist_rouge` en utilisant les indications fournies. Regarder le résultat de `dist_rouge(0,1,n)` et `dist_rouge(1,1,n)` pour différentes valeurs de `n` (1,2,5,10,20,...) et commenter.\n",
    "\n"
   ]
  },
  {
   "cell_type": "code",
   "execution_count": 12,
   "metadata": {},
   "outputs": [],
   "source": [
    "def next_dist_rouge(r):\n",
    "    # Calculer le nombre de boules \n",
    "    n_balls = len(r) - 1\n",
    "    \n",
    "    # Rajouter un 0 à la fin de liste, correspondant à la probabilité\n",
    "    # qu'il y ait n_balls + 1 boules rouges à l'instant précédent\n",
    "    r.append(0)\n",
    "    \n",
    "    # Créer une nouvelle liste pour la nouvelle distribution\n",
    "    r_new = [-1] * (len(r))\n",
    "    \n",
    "    # Calculer la nouvelle distribution\n",
    "    r_new[0] = r[0]\n",
    "    for k in range(1, n_balls + 2):\n",
    "        r_new[k] = r[k] * (1 - densite((k, n_balls - k))) + r[k - 1] * densite((k - 1, n_balls - k + 1))\n",
    "    \n",
    "    # Renvoyer la nouvelle distribution\n",
    "    return r_new\n",
    "    \n",
    "def dist_rouge(r0, b0, n):\n",
    "    # Cas n = 0\n",
    "    # On veut une liste de longeur (r0 + b0 + 1) avec un 1 à l'indice r0\n",
    "    # et des 0 partout ailleurs\n",
    "    if n == 0:\n",
    "        res = [0] * (r0 + b0 + 1)\n",
    "        res[r0] = 1\n",
    "        return res\n",
    "    \n",
    "    # Cas n > 0\n",
    "    # On calcule la nouvelle distribution à partir de la distribution précédente\n",
    "    else:\n",
    "        return next_dist_rouge(dist_rouge(r0, b0, n - 1))"
   ]
  },
  {
   "cell_type": "code",
   "execution_count": 13,
   "metadata": {},
   "outputs": [
    {
     "data": {
      "image/png": "[encoded data removed]",
      "text/plain": [
       "<Figure size 1152x576 with 10 Axes>"
      ]
     },
     "metadata": {
      "needs_background": "light"
     },
     "output_type": "display_data"
    }
   ],
   "source": [
    "import matplotlib.pyplot as plt\n",
    "%matplotlib inline\n",
    "\n",
    "plt.figure(figsize=(16, 8))\n",
    "count = 0\n",
    "indices = np.r_[np.arange(1, 11, 2), np.arange(2, 11, 2)]\n",
    "\n",
    "\n",
    "for i in (0, 1):\n",
    "    for n in (1, 2, 5, 10, 20):\n",
    "        plt.subplot(5, 2, indices[count])\n",
    "        plt.bar(np.arange(n + i + 2), dist_rouge(i, 1, n))\n",
    "        plt.xticks(np.arange(n + i + 2))\n",
    "        plt.title(f'dist_rouge({i}, 1, {n})')\n",
    "        count += 1\n",
    "        \n",
    "plt.subplots_adjust(hspace=0.7)"
   ]
  },
  {
   "cell_type": "markdown",
   "metadata": {},
   "source": [
    "* Quand on commence avec 0 boule rouge, il n'est jamais possible de tirer une boule rouge, donc il y a toujours 0 boule rouge.\n",
    "* Quand on commence avec 1 boule rouge et 1 boule blanche, la distribution du nombre de boules rouges est uniforme sur l'intervalle (1, n + 1)."
   ]
  },
  {
   "cell_type": "markdown",
   "metadata": {},
   "source": [
    "\n",
    "\n",
    "Plutôt que de calculer théoriquement pour chaque $n$, la suite des  probabilités théoriques, nous allons faire des statistiques sur un grand nombre d'évolutions d'urnes de Polya, au bout d'un grand nombre d'étapes. Pour cela, il nous faut une fonction pour faire évoluer une urne de Polya.\n",
    "\n",
    "**c)**\n",
    "Définir une fonction `polya_step(r,b)` qui, à partir de la composition d'une urne passée sous forme de deux paramètres `r` et `b`, renvoie l'évolution (aléatoire) après une étape de la composition de l'urne sous forme d'un tuple `(r',b')`. Définir également une fonction `polya(r0,b0,N)` prenant en argument $r_0$, $b_0$ et $N$ en paramètres et renvoyant la composition (aléatoire) d'une urne de Polya au bout de $N$ étapes, aussi sous forme de tuple `(r_N,b_N)`.\n",
    "\n"
   ]
  },
  {
   "cell_type": "code",
   "execution_count": 14,
   "metadata": {},
   "outputs": [],
   "source": [
    "def polya_step(r, b):\n",
    "    # On génère une variable aléatoire sur l'intervalle [0, 1]\n",
    "    # Si la variable est inférieure à la proportion de boules rouges, alors on a tiré\n",
    "    # une boule rouge, sinon on a tiré une boule blanche\n",
    "    if np.random.uniform() < densite((r, b)):\n",
    "        return (r + 1, b)\n",
    "    else:\n",
    "        return (r, b + 1)\n",
    "    \n",
    "def polya(r0, b0, N):\n",
    "    # Initialisation de r et b avec les valeurs initiales\n",
    "    r, b = r0, b0\n",
    "    \n",
    "    # Mise à jour de r et b en utilisant la fonction polya_step\n",
    "    for _ in range(N):\n",
    "        r, b = polya_step(r, b)\n",
    "    \n",
    "    # Renvoie de la distribution finale de boules\n",
    "    return r, b"
   ]
  },
  {
   "cell_type": "markdown",
   "metadata": {},
   "source": [
    "\n",
    "**d)**\n",
    "Écrire une fonction `data_rdens_polya(r0,b0,N,nbexp)` qui renvoie une liste de longueur `nbexp` contenant les densités de `nbexp` réalisations d'urnes de Polya au temps `N` initialisées avec `r0` boules rouges et `b0` boules blanches.\n",
    "\n"
   ]
  },
  {
   "cell_type": "code",
   "execution_count": 15,
   "metadata": {},
   "outputs": [],
   "source": [
    "def data_rdens_polya(r0, b0, N, nbexp):\n",
    "    res = []\n",
    "    for _ in range(nbexp):\n",
    "        res.append(densite(polya(r0, b0, N)))\n",
    "    return res"
   ]
  },
  {
   "cell_type": "markdown",
   "metadata": {},
   "source": [
    "\n",
    "**e)**\n",
    "Stocker dans une variable le résultat de `data_rdens_polya(2,3,1000,10000)` et dessiner un histogramme pour voir la répartition des densités. Attention, on veut que les hauteurs des barres soient normalisées pour que leur surface représente la proportion de points, et non pour qu'elles donnent le nombre de points par *bin*.\n",
    "\n",
    "**Indication:** Une bonne règle de départ est de choisir le nombre de boites (*bins*) pour un histogramme de l'ordre de la racine carrée du nombre de points. Consulter la documentation de la fonction de `hist` de Matplotlib.\n",
    "\n"
   ]
  },
  {
   "cell_type": "code",
   "execution_count": 16,
   "metadata": {},
   "outputs": [],
   "source": [
    "res = data_rdens_polya(2, 3, 1000, 10000)"
   ]
  },
  {
   "cell_type": "code",
   "execution_count": 17,
   "metadata": {},
   "outputs": [
    {
     "data": {
      "image/png": "[encoded data removed]",
      "text/plain": [
       "<Figure size 864x360 with 1 Axes>"
      ]
     },
     "metadata": {
      "needs_background": "light"
     },
     "output_type": "display_data"
    }
   ],
   "source": [
    "plt.figure(figsize=(12, 5))\n",
    "plt.hist(res, density=True, edgecolor='k', bins=100);\n",
    "plt.title(\"Distribution de la proportion de boules rouge pour 1000 simulations\\n\"\n",
    "          \"de l'instant 1000 avec 2 boules rouges et 3 boules blanches initialement\",\n",
    "          fontsize=14);\n",
    "plt.xticks(np.linspace(0, 1, 11));"
   ]
  },
  {
   "cell_type": "markdown",
   "metadata": {},
   "source": [
    "\n",
    "\n",
    "\n",
    "<!-- --- end exercise --- -->\n",
    "\n",
    "\n",
    "\n",
    "\n",
    "<!-- --- begin exercise --- -->\n",
    "\n",
    "# Exercice 3: Méthode des moindres carrés\n",
    "\n",
    "Le fichier ci-joint `population.txt` contient les données statistiques de la population de quelques communes françaises ventilée par le sexe et l'âge de la personne.\n",
    "Les premières lignes de ce fichier sont:"
   ]
  },
  {
   "cell_type": "markdown",
   "metadata": {},
   "source": [
    "        CODGEO;LIBGEO;SEXE;AGED100;NB\n",
    "        13201;Marseille 1er Arrondissement;1;000;293.98064823\n",
    "        13201;Marseille 1er Arrondissement;1;001;311.40411923\n",
    "        13201;Marseille 1er Arrondissement;1;002;257.55156994\n",
    "        13201;Marseille 1er Arrondissement;1;003;249.26498077\n"
   ]
  },
  {
   "cell_type": "markdown",
   "metadata": {},
   "source": [
    "Le premier champ est le code postal,\n",
    "le second la dénomination de la commune, le troisième le sexe (1 pour masculin, 2 pour féminin),\n",
    "la quatrième la tranche d'âge et le dernier la population.\n",
    "Par exemple la seconde ligne du fichier signifie qu'il y a 293.98 personnes de sexe masculin ayant 0 an dans le 1er arrondissement de Marseille.\n",
    "\n",
    "\n",
    "**a)**\n",
    "Écrire une fonction `pop(code)` qui retourne sous forme de liste ou de vecteur Numpy la population par âge sans distinction homme-femme dans la commune de code postal `code`.\n",
    "Utiliser cette fonction pour déterminer le nombre total d'habitants dans les communes de code postal 13201 et 75102.\n",
    "\n"
   ]
  },
  {
   "cell_type": "code",
   "execution_count": 18,
   "metadata": {},
   "outputs": [
    {
     "data": {
      "text/html": [
       "<div>\n",
       "<style scoped>\n",
       "    .dataframe tbody tr th:only-of-type {\n",
       "        vertical-align: middle;\n",
       "    }\n",
       "\n",
       "    .dataframe tbody tr th {\n",
       "        vertical-align: top;\n",
       "    }\n",
       "\n",
       "    .dataframe thead th {\n",
       "        text-align: right;\n",
       "    }\n",
       "</style>\n",
       "<table border=\"1\" class=\"dataframe\">\n",
       "  <thead>\n",
       "    <tr style=\"text-align: right;\">\n",
       "      <th></th>\n",
       "      <th>CODGEO</th>\n",
       "      <th>LIBGEO</th>\n",
       "      <th>SEXE</th>\n",
       "      <th>AGED100</th>\n",
       "      <th>NB</th>\n",
       "    </tr>\n",
       "  </thead>\n",
       "  <tbody>\n",
       "    <tr>\n",
       "      <th>0</th>\n",
       "      <td>13201</td>\n",
       "      <td>Marseille 1er Arrondissement</td>\n",
       "      <td>1</td>\n",
       "      <td>0</td>\n",
       "      <td>293.980648</td>\n",
       "    </tr>\n",
       "    <tr>\n",
       "      <th>1</th>\n",
       "      <td>13201</td>\n",
       "      <td>Marseille 1er Arrondissement</td>\n",
       "      <td>1</td>\n",
       "      <td>1</td>\n",
       "      <td>311.404119</td>\n",
       "    </tr>\n",
       "    <tr>\n",
       "      <th>2</th>\n",
       "      <td>13201</td>\n",
       "      <td>Marseille 1er Arrondissement</td>\n",
       "      <td>1</td>\n",
       "      <td>2</td>\n",
       "      <td>257.551570</td>\n",
       "    </tr>\n",
       "    <tr>\n",
       "      <th>3</th>\n",
       "      <td>13201</td>\n",
       "      <td>Marseille 1er Arrondissement</td>\n",
       "      <td>1</td>\n",
       "      <td>3</td>\n",
       "      <td>249.264981</td>\n",
       "    </tr>\n",
       "    <tr>\n",
       "      <th>4</th>\n",
       "      <td>13201</td>\n",
       "      <td>Marseille 1er Arrondissement</td>\n",
       "      <td>1</td>\n",
       "      <td>4</td>\n",
       "      <td>188.591426</td>\n",
       "    </tr>\n",
       "  </tbody>\n",
       "</table>\n",
       "</div>"
      ],
      "text/plain": [
       "   CODGEO                        LIBGEO  SEXE  AGED100          NB\n",
       "0   13201  Marseille 1er Arrondissement     1        0  293.980648\n",
       "1   13201  Marseille 1er Arrondissement     1        1  311.404119\n",
       "2   13201  Marseille 1er Arrondissement     1        2  257.551570\n",
       "3   13201  Marseille 1er Arrondissement     1        3  249.264981\n",
       "4   13201  Marseille 1er Arrondissement     1        4  188.591426"
      ]
     },
     "execution_count": 18,
     "metadata": {},
     "output_type": "execute_result"
    }
   ],
   "source": [
    "import pandas as pd\n",
    "\n",
    "df = pd.read_csv('population.txt', sep=';')\n",
    "df.head(5)"
   ]
  },
  {
   "cell_type": "code",
   "execution_count": 19,
   "metadata": {},
   "outputs": [],
   "source": [
    "def pop(code):\n",
    "    return df[df['CODGEO'] == code].groupby('AGED100')['NB'].sum().values"
   ]
  },
  {
   "cell_type": "code",
   "execution_count": 20,
   "metadata": {},
   "outputs": [
    {
     "data": {
      "text/plain": [
       "array([607.11766657, 557.35999529, 452.21531209, 456.04382958,\n",
       "       399.23878026, 441.74964935, 458.88097888, 371.02489207,\n",
       "       472.51063581, 512.81178202, 474.29481221, 418.74666841,\n",
       "       358.4080661 , 353.59495496, 337.65495901, 351.81206984,\n",
       "       389.31739559, 405.39002439, 713.48502213, 778.50142113,\n",
       "       654.14669852, 818.05227945, 664.89743467, 666.75919954,\n",
       "       752.56609732, 700.57480601, 623.58333324, 642.3577027 ,\n",
       "       607.7616914 , 664.2436937 , 610.36076791, 644.39262952,\n",
       "       631.58760987, 655.46396476, 616.70201015, 512.69538601,\n",
       "       547.38124901, 534.62594909, 519.95034318, 597.21403241,\n",
       "       610.26874989, 591.26298192, 576.73251483, 602.7963537 ,\n",
       "       503.37631578, 589.39199737, 521.98768073, 572.6007483 ,\n",
       "       534.2856585 , 561.52091366, 536.37799692, 569.96000041,\n",
       "       443.1062994 , 454.40717103, 539.66048922, 463.11716437,\n",
       "       460.67572486, 423.38696478, 408.01001429, 425.4723547 ,\n",
       "       371.48738064, 421.66647374, 375.65389107, 408.53052979,\n",
       "       469.4573979 , 454.37915767, 373.03808543, 492.31320404,\n",
       "       353.89268515, 394.57317178, 362.587457  , 263.03219442,\n",
       "       251.37402103, 275.58307472, 254.31647583, 235.89094359,\n",
       "       171.64861721, 242.21218692, 207.8943094 , 181.77488442,\n",
       "       154.1094567 , 129.88828583, 127.26869334, 145.69294457,\n",
       "       127.62793865, 132.1632021 , 104.58867071,  97.86449686,\n",
       "        55.41921371,  81.2147596 ,  65.93723741,  66.71681351,\n",
       "        34.8111606 ,  35.99070042,  21.99876055,  10.37358443,\n",
       "         5.90819978,   5.93377949,   3.74123924,   6.78809985,\n",
       "         6.78273204])"
      ]
     },
     "execution_count": 20,
     "metadata": {},
     "output_type": "execute_result"
    }
   ],
   "source": [
    "pop(13201)"
   ]
  },
  {
   "cell_type": "code",
   "execution_count": 21,
   "metadata": {},
   "outputs": [
    {
     "data": {
      "text/plain": [
       "array([202.14069108, 183.17320974, 210.76584696, 196.33426089,\n",
       "       227.61892214, 122.93420647, 148.25670333, 191.29412781,\n",
       "       156.25936916, 175.92997835, 117.88166933, 175.74539177,\n",
       "       119.14832179, 159.75881115, 165.1609773 , 128.13026581,\n",
       "       108.42540894, 133.35703487, 175.25498064, 162.22460444,\n",
       "       199.55153893, 249.74737444, 336.51624601, 490.36735914,\n",
       "       610.17662806, 557.47408531, 541.55093304, 572.63706127,\n",
       "       633.69557801, 522.68125725, 579.55316318, 564.05614747,\n",
       "       523.42849472, 364.41069738, 442.65277096, 389.11681775,\n",
       "       355.79565748, 349.31304616, 391.53789967, 345.75812019,\n",
       "       334.19593291, 332.98952401, 326.71432875, 346.09648169,\n",
       "       344.15961891, 334.89980683, 263.38425063, 242.12517857,\n",
       "       312.84697083, 288.08081437, 292.9752124 , 231.75710425,\n",
       "       298.22494416, 217.2097544 , 276.98443799, 249.60181616,\n",
       "       187.77296859, 179.56519728, 233.87668887, 207.16221848,\n",
       "       155.76693637, 220.99250307, 190.15791416, 169.70545474,\n",
       "       176.60232094, 193.31699044, 133.80553367, 162.033303  ,\n",
       "       116.2945266 , 130.17416492, 103.30984644,  97.83477041,\n",
       "        81.88924311, 105.06794471, 111.30044295,  81.42573935,\n",
       "        71.55205324,  75.3360209 ,  66.62330015,  69.94289594,\n",
       "        69.74648635,  41.98008004,  43.05936671,  63.73988773,\n",
       "        51.1148208 ,  28.23801257,  27.74876355,  23.56998165,\n",
       "        32.77848376,  28.90542177,  20.11343232,  35.66735766,\n",
       "         9.27728454,  14.57668293,   2.79576248,   2.73573242,\n",
       "         0.        ,   5.32234356,   1.05928561,   0.        ,\n",
       "         0.        ])"
      ]
     },
     "execution_count": 21,
     "metadata": {},
     "output_type": "execute_result"
    }
   ],
   "source": [
    "pop(75102)"
   ]
  },
  {
   "cell_type": "code",
   "execution_count": 22,
   "metadata": {},
   "outputs": [
    {
     "name": "stdout",
     "output_type": "stream",
     "text": [
      "Taille totale de la population dans la commune 13201 = 40346\n",
      "Taille totale de la population dans la commune 75102 = 20796\n"
     ]
    }
   ],
   "source": [
    "for code in (13201, 75102):\n",
    "    print(f\"Taille totale de la population dans la commune {code} = {np.sum(pop(code)):.0f}\")"
   ]
  },
  {
   "cell_type": "markdown",
   "metadata": {},
   "source": [
    "\n",
    "**b)**\n",
    "Écrire une fonction `plot_pop(code)` affichant graphiquement les fractions de la population\n",
    "(normalisées par la population totale de la commune) en fonction de l'âge sans distinction homme-femme dans la commune de code postal `code`.\n",
    "Tester pour les communes de code postal 13201 et 75102.\n",
    "\n"
   ]
  },
  {
   "cell_type": "code",
   "execution_count": 23,
   "metadata": {},
   "outputs": [],
   "source": [
    "def plot_pop(code):\n",
    "    population = pop(code)\n",
    "    population /= np.sum(population)\n",
    "    plt.bar(np.arange(101), population)"
   ]
  },
  {
   "cell_type": "code",
   "execution_count": 24,
   "metadata": {},
   "outputs": [
    {
     "data": {
      "image/png": "[encoded data removed]",
      "text/plain": [
       "<Figure size 1008x360 with 1 Axes>"
      ]
     },
     "metadata": {
      "needs_background": "light"
     },
     "output_type": "display_data"
    }
   ],
   "source": [
    "plt.figure(figsize=(14, 5))\n",
    "plot_pop(13201)\n",
    "plt.title('Distribution de la population par âge pour la commune 13201', fontsize=18);\n",
    "plt.xlabel('Age', fontsize=14);"
   ]
  },
  {
   "cell_type": "code",
   "execution_count": 25,
   "metadata": {},
   "outputs": [
    {
     "data": {
      "image/png": "[encoded data removed]",
      "text/plain": [
       "<Figure size 1008x360 with 1 Axes>"
      ]
     },
     "metadata": {
      "needs_background": "light"
     },
     "output_type": "display_data"
    }
   ],
   "source": [
    "plt.figure(figsize=(14, 5))\n",
    "plot_pop(75102)\n",
    "plt.title('Distribution de la population par âge pour la commune 75012', fontsize=18);\n",
    "plt.xlabel('Age', fontsize=14);"
   ]
  },
  {
   "cell_type": "markdown",
   "metadata": {},
   "source": [
    "\n",
    "Pour une commune donnée, si on dénote par $p(a)$ la fraction de la population ayant l'âge $a$,\n",
    "on cherche les coefficients $r_0$, $r_1$, $r_2$ tels que la loi"
   ]
  },
  {
   "cell_type": "markdown",
   "metadata": {},
   "source": [
    "$$\n",
    "p(a) = r_0+r_1a+r_2a^2\n",
    "$$"
   ]
  },
  {
   "cell_type": "markdown",
   "metadata": {},
   "source": [
    "soit la mieux satisfaite pour les âges $a\\geq25$.\n",
    "Pour cela on résout le problème aux moindres carrés"
   ]
  },
  {
   "cell_type": "markdown",
   "metadata": {},
   "source": [
    "$$\n",
    "\\min_{\\vec{r}\\in \\mathbb{R}^3}||X\\vec{r}-\\vec{p}||^2\n",
    "$$"
   ]
  },
  {
   "cell_type": "markdown",
   "metadata": {},
   "source": [
    "où en notant le vecteur des âges $\\vec{a}=(25,26,\\dots,100)$,\n",
    "$X$ est la matrice $76\\times 3$ telle que $X_{i,1}=1$, $X_{i,2}=a_i$, $X_{i,3}=a_i^2$ et\n",
    "$\\vec{p}$ est le vecteur des populations par âge $p_i = p(a_i)$.\n",
    "La solution de ce problème est $\\vec{r} = (r_0,r_1,r_2)\\in \\mathbb{R}^3 $. Cette solution satisfait l'équation"
   ]
  },
  {
   "cell_type": "markdown",
   "metadata": {},
   "source": [
    "$$\n",
    "~^t\\!XX\\vec{r}=~^t\\!X\\vec{p}\n",
    "$$"
   ]
  },
  {
   "cell_type": "markdown",
   "metadata": {},
   "source": [
    "où $~^t\\!X$ désigne la transposée de $X$.\n",
    "Pour les communes de code postal 13201 et 75102, résoudre les questions suivantes:\n",
    "\n",
    "**c)**\n",
    "Pour la commune 13201, former la matrice $X$ et le vecteur $\\vec{p}$, puis déterminer la solution $\\vec{r}$.\n",
    "\n"
   ]
  },
  {
   "cell_type": "code",
   "execution_count": 26,
   "metadata": {},
   "outputs": [
    {
     "data": {
      "text/plain": [
       "array([ 1.78886093e-02, -1.96378818e-05, -1.75486684e-06])"
      ]
     },
     "execution_count": 26,
     "metadata": {},
     "output_type": "execute_result"
    }
   ],
   "source": [
    "# Création de la matrice X\n",
    "a = np.arange(25, 101)\n",
    "X = np.vstack([np.ones_like(a), a, a ** 2]).T\n",
    "\n",
    "# Création du vecteur p pour la commune de code postale 13201\n",
    "pop_13201 = pop(13201) / np.sum(pop(13201))\n",
    "p_13201 = pop_13201[25:]\n",
    "\n",
    "np.linalg.solve(X.T @ X, X.T @ p_13201)"
   ]
  },
  {
   "cell_type": "markdown",
   "metadata": {},
   "source": [
    "\n",
    "**d)**\n",
    "Pour les communes de code postal 13201 et 75102, tracer la courbe théorique $r_0+r_1a+r_2a^2$ en fonction de l'âge par dessus les données.\n",
    "\n"
   ]
  },
  {
   "cell_type": "code",
   "execution_count": 27,
   "metadata": {},
   "outputs": [
    {
     "data": {
      "image/png": "[encoded data removed]",
      "text/plain": [
       "<Figure size 1008x360 with 1 Axes>"
      ]
     },
     "metadata": {
      "needs_background": "light"
     },
     "output_type": "display_data"
    },
    {
     "data": {
      "image/png": "[encoded data removed]",
      "text/plain": [
       "<Figure size 1008x360 with 1 Axes>"
      ]
     },
     "metadata": {
      "needs_background": "light"
     },
     "output_type": "display_data"
    }
   ],
   "source": [
    "for code in (13201, 75102):\n",
    "\n",
    "    plt.figure(figsize=(14, 5))\n",
    "    plot_pop(code)\n",
    "    pop_code = pop(code) / np.sum(pop(code))\n",
    "    p_code = pop_code[25:]\n",
    "    r_code = np.linalg.solve(X.T @ X, X.T @ p_code)\n",
    "    plt.plot(a, np.inner(r_code, X), color='C1', lw=4,\n",
    "             label='Approximation polynomiale de degré 2')\n",
    "    plt.title(f'Distribution de la population par âge pour la commune {code}', fontsize=18);\n",
    "    plt.xlabel('Age', fontsize=14);\n",
    "    plt.legend(fontsize=14);"
   ]
  }
 ],
 "metadata": {
  "kernelspec": {
   "display_name": "Python 3",
   "language": "python",
   "name": "python3"
  },
  "language_info": {
   "codemirror_mode": {
    "name": "ipython",
    "version": 3
   },
   "file_extension": ".py",
   "mimetype": "text/x-python",
   "name": "python",
   "nbconvert_exporter": "python",
   "pygments_lexer": "ipython3",
   "version": "3.7.3"
  }
 },
 "nbformat": 4,
 "nbformat_minor": 4
}
