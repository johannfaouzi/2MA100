{
 "cells": [
  {
   "cell_type": "markdown",
   "metadata": {},
   "source": [
    "<!-- dom:TITLE: 2MA100 - Devoir Maison 1 -->\n",
    "# 2MA100 - Devoir Maison 1\n",
    "<!-- dom:AUTHOR: Sorbonne Université - 2 mars 2020 -->\n",
    "<!-- Author: -->  \n",
    "**Sorbonne Université - 2 mars 2020**\n",
    "\n",
    "Les exercices de ce devoir maison noté sur 20 points doivent être rendus au choix au format **Notebook** (`.ipynb`) ou **Script** (`.py`) en un ou plusieurs fichiers au plus tard le **13 mars 2020** à 23h59 sur [moodle](https://moodle-sciences.upmc.fr/moodle-2019/).\n",
    "\n",
    "\n",
    "**Attention Plagiat !**\n",
    "\n",
    "\n",
    "Les devoirs maisons doivent être codés et rendus de manière individuelle. A titre d'information,\n",
    "voici une définition du plagiat adaptée du [Memento de l'Université de Genève](https://memento.unige.ch/doc/0008/) :\n",
    "\n",
    "*Le plagiat consiste à insérer, dans un travail académique, des formulations, des\n",
    "phrases, des passages, des morceaux de code, des images, de même que des idées ou\n",
    "analyses repris de travaux d'autres auteurs, en les faisant passer pour siens.*\n",
    "\n",
    "En particulier, le copier-coller à partir de sources trouvées sur Internet ou sur des travaux d'autres\n",
    "étudiant·es sans citer les sources est considéré comme du plagiat et implique une note zéro.\n",
    "Le plagiat constitue également une tentative de tricherie sanctionnée par\n",
    "le règlement de l'université. La solution est d'indiquer dans vos devoirs tout de ce qui ne vient\n",
    "pas de vous en mentionnant les sources (page Internet, livres, autre étudiant·e,...). Tout les\n",
    "fichiers rendus seront analysés automatiquement avec un logiciel de détection des similarités\n",
    "(entre étudiant·es et depuis Internet).\n",
    "\n",
    "\n",
    "\n",
    "\n",
    "\n",
    "<!-- --- begin exercise --- -->\n",
    "\n",
    "# Exercice 1: Nombre d'or\n",
    "\n",
    "On s'intéresse ici à une approximation du nombre d'or, $\\varphi = \\dfrac{1+\\sqrt{5}}{2}$.\n",
    "\n",
    "On définit tout d'abord la suite $(F_n)_{n\\geqslant0}$ par $F_0=F_1=1$ et $F_{n}=F_{n-1}+F_{n-2}$ pour $n\\ge 2$. On a alors le résultat suivant,"
   ]
  },
  {
   "cell_type": "markdown",
   "metadata": {},
   "source": [
    "$$\n",
    "\\lim_{n \\rightarrow +\\infty} \\dfrac{F_{n+1}}{F_{n}} = \\varphi.\n",
    "$$"
   ]
  },
  {
   "cell_type": "markdown",
   "metadata": {},
   "source": [
    "**a)**\n",
    "Écrire une fonction `Fibo(epsilon)` qui, à $\\varepsilon$ précision donnée, renvoie le plus petit entier $n$ tel que $\\left| \\varphi - \\dfrac{F_{n+1}}{F_{n}} \\right| < \\varepsilon$.\n",
    "\n"
   ]
  },
  {
   "cell_type": "code",
   "execution_count": 1,
   "metadata": {},
   "outputs": [],
   "source": [
    "from math import sqrt\n",
    "\n",
    "# Calcul de phi\n",
    "phi = (1 + sqrt(5)) / 2\n",
    "\n",
    "def Fibo(epsilon):\n",
    "\n",
    "    # Initialisation\n",
    "    F1, F0 = 1, 1\n",
    "    cond = abs(phi - F1 / F0) < epsilon\n",
    "    n = 0\n",
    "    \n",
    "    # Tant que la condition n'est pas vérifiée\n",
    "    while not cond:\n",
    "        \n",
    "        # Mise à jour des variables\n",
    "        F1, F0 = F1 + F0, F1\n",
    "        cond = abs(phi - F1 / F0) < epsilon\n",
    "        n += 1\n",
    "        \n",
    "    return n"
   ]
  },
  {
   "cell_type": "markdown",
   "metadata": {},
   "source": [
    "\n",
    "On souligne également que $\\varphi$ est l'unique solution positive de l'équation $x^2-x-1=0$.\n",
    "\n",
    "**b)**\n",
    "Écrire une nouvelle fonction `Newton(epsilon, x0)` qui, à $\\varepsilon$ précision donnée, renvoie le plus petit entier $k$\n",
    " tel que $\\left| \\varphi - x_k \\right| < \\varepsilon$ où $x_k$ est déterminé par la méthode de Newton appliquée à $f(x)=x^2-x-1$ dont on rappelle le principe:"
   ]
  },
  {
   "cell_type": "markdown",
   "metadata": {},
   "source": [
    "$$\n",
    "x_{k+1} = x_k - \\dfrac{f(x_k)}{f^\\prime(x_k)} \\,, \\quad k \\ge 0.\n",
    "$$"
   ]
  },
  {
   "cell_type": "markdown",
   "metadata": {},
   "source": [
    "En pratique on choisira $x_0=3$.\n",
    "\n"
   ]
  },
  {
   "cell_type": "code",
   "execution_count": 2,
   "metadata": {},
   "outputs": [],
   "source": [
    "def Newton(epsilon, x0=3):\n",
    "    \n",
    "    # Création de la fonction dont phi est un zéro et de sa dériv\"e\n",
    "    def f(y):\n",
    "        return y ** 2 - y - 1\n",
    "    def df(y):\n",
    "        return 2 * y - 1\n",
    "\n",
    "    # Initialisation\n",
    "    x = x0\n",
    "    cond = abs(phi - x) < epsilon\n",
    "    n = 0\n",
    "    \n",
    "    # Tant que la condition n'est pas vérifiée\n",
    "    while not cond:\n",
    "        \n",
    "        # Mise à jour des variables\n",
    "        x -= f(x) / df(x)\n",
    "        cond = abs(phi - x) < epsilon\n",
    "        n += 1\n",
    "        \n",
    "    return n"
   ]
  },
  {
   "cell_type": "markdown",
   "metadata": {},
   "source": [
    "\n",
    "**c)**\n",
    "Pour $\\varepsilon = 10^{-i}$ et $i \\in \\{2, 4, 6, 8\\}$ comparer le nombre d'itérations nécessaire entre les deux stratégies proposées pour approximer $\\varphi$ à précision donnée. Quelle stratégie vous semble la plus *efficace* ?\n",
    "\n"
   ]
  },
  {
   "cell_type": "code",
   "execution_count": 3,
   "metadata": {},
   "outputs": [
    {
     "name": "stdout",
     "output_type": "stream",
     "text": [
      "epsilon = 1E-02\n",
      "Nombre d'itérations avec Fibo = 5\n",
      "Nombre d'itérations avec Newton = 3\n",
      "\n",
      "epsilon = 1E-04\n",
      "Nombre d'itérations avec Fibo = 10\n",
      "Nombre d'itérations avec Newton = 4\n",
      "\n",
      "epsilon = 1E-06\n",
      "Nombre d'itérations avec Fibo = 15\n",
      "Nombre d'itérations avec Newton = 4\n",
      "\n",
      "epsilon = 1E-08\n",
      "Nombre d'itérations avec Fibo = 19\n",
      "Nombre d'itérations avec Newton = 5\n",
      "\n"
     ]
    }
   ],
   "source": [
    "for epsilon in (10 ** - k for k in range(2, 9, 2)):\n",
    "    print(\"epsilon = {:0.0E}\".format(epsilon))\n",
    "    print(\"Nombre d'itérations avec Fibo =\", Fibo(epsilon))\n",
    "    print(\"Nombre d'itérations avec Newton =\", Newton(epsilon))\n",
    "    print()"
   ]
  },
  {
   "cell_type": "markdown",
   "metadata": {},
   "source": [
    "La méthode de Newton semble plus efficace (moins d'itérations)."
   ]
  },
  {
   "cell_type": "markdown",
   "metadata": {},
   "source": [
    "**d)** Et qu'en est-il si on initialise la méthode de Newton par $x_0=0$ ?"
   ]
  },
  {
   "cell_type": "code",
   "execution_count": 4,
   "metadata": {},
   "outputs": [
    {
     "name": "stdout",
     "output_type": "stream",
     "text": [
      "epsilon = 1E-02\n",
      "Nombre d'itérations avec Fibo = 5\n"
     ]
    },
    {
     "ename": "KeyboardInterrupt",
     "evalue": "",
     "output_type": "error",
     "traceback": [
      "\u001b[0;31m---------------------------------------------------------------------------\u001b[0m",
      "\u001b[0;31mKeyboardInterrupt\u001b[0m                         Traceback (most recent call last)",
      "\u001b[0;32m<ipython-input-4-dcc23f33afa4>\u001b[0m in \u001b[0;36m<module>\u001b[0;34m\u001b[0m\n\u001b[1;32m      2\u001b[0m     \u001b[0mprint\u001b[0m\u001b[0;34m(\u001b[0m\u001b[0;34m\"epsilon = {:0.0E}\"\u001b[0m\u001b[0;34m.\u001b[0m\u001b[0mformat\u001b[0m\u001b[0;34m(\u001b[0m\u001b[0mepsilon\u001b[0m\u001b[0;34m)\u001b[0m\u001b[0;34m)\u001b[0m\u001b[0;34m\u001b[0m\u001b[0;34m\u001b[0m\u001b[0m\n\u001b[1;32m      3\u001b[0m     \u001b[0mprint\u001b[0m\u001b[0;34m(\u001b[0m\u001b[0;34m\"Nombre d'itérations avec Fibo =\"\u001b[0m\u001b[0;34m,\u001b[0m \u001b[0mFibo\u001b[0m\u001b[0;34m(\u001b[0m\u001b[0mepsilon\u001b[0m\u001b[0;34m)\u001b[0m\u001b[0;34m)\u001b[0m\u001b[0;34m\u001b[0m\u001b[0;34m\u001b[0m\u001b[0m\n\u001b[0;32m----> 4\u001b[0;31m     \u001b[0mprint\u001b[0m\u001b[0;34m(\u001b[0m\u001b[0;34m\"Nombre d'itérations avec Newton =\"\u001b[0m\u001b[0;34m,\u001b[0m \u001b[0mNewton\u001b[0m\u001b[0;34m(\u001b[0m\u001b[0mepsilon\u001b[0m\u001b[0;34m,\u001b[0m \u001b[0mx0\u001b[0m\u001b[0;34m=\u001b[0m\u001b[0;36m0\u001b[0m\u001b[0;34m)\u001b[0m\u001b[0;34m)\u001b[0m\u001b[0;34m\u001b[0m\u001b[0;34m\u001b[0m\u001b[0m\n\u001b[0m\u001b[1;32m      5\u001b[0m     \u001b[0mprint\u001b[0m\u001b[0;34m(\u001b[0m\u001b[0;34m)\u001b[0m\u001b[0;34m\u001b[0m\u001b[0;34m\u001b[0m\u001b[0m\n",
      "\u001b[0;32m<ipython-input-2-6edc78a5c1a7>\u001b[0m in \u001b[0;36mNewton\u001b[0;34m(epsilon, x0)\u001b[0m\n\u001b[1;32m     18\u001b[0m         \u001b[0mx\u001b[0m \u001b[0;34m-=\u001b[0m \u001b[0mf\u001b[0m\u001b[0;34m(\u001b[0m\u001b[0mx\u001b[0m\u001b[0;34m)\u001b[0m \u001b[0;34m/\u001b[0m \u001b[0mdf\u001b[0m\u001b[0;34m(\u001b[0m\u001b[0mx\u001b[0m\u001b[0;34m)\u001b[0m\u001b[0;34m\u001b[0m\u001b[0;34m\u001b[0m\u001b[0m\n\u001b[1;32m     19\u001b[0m         \u001b[0mcond\u001b[0m \u001b[0;34m=\u001b[0m \u001b[0mabs\u001b[0m\u001b[0;34m(\u001b[0m\u001b[0mphi\u001b[0m \u001b[0;34m-\u001b[0m \u001b[0mx\u001b[0m\u001b[0;34m)\u001b[0m \u001b[0;34m<\u001b[0m \u001b[0mepsilon\u001b[0m\u001b[0;34m\u001b[0m\u001b[0;34m\u001b[0m\u001b[0m\n\u001b[0;32m---> 20\u001b[0;31m         \u001b[0mn\u001b[0m \u001b[0;34m+=\u001b[0m \u001b[0;36m1\u001b[0m\u001b[0;34m\u001b[0m\u001b[0;34m\u001b[0m\u001b[0m\n\u001b[0m\u001b[1;32m     21\u001b[0m \u001b[0;34m\u001b[0m\u001b[0m\n\u001b[1;32m     22\u001b[0m     \u001b[0;32mreturn\u001b[0m \u001b[0mn\u001b[0m\u001b[0;34m\u001b[0m\u001b[0;34m\u001b[0m\u001b[0m\n",
      "\u001b[0;31mKeyboardInterrupt\u001b[0m: "
     ]
    }
   ],
   "source": [
    "for epsilon in (10 ** - k for k in range(2, 9, 2)):\n",
    "    print(\"epsilon = {:0.0E}\".format(epsilon))\n",
    "    print(\"Nombre d'itérations avec Fibo =\", Fibo(epsilon))\n",
    "    print(\"Nombre d'itérations avec Newton =\", Newton(epsilon, x0=0))\n",
    "    print()"
   ]
  },
  {
   "cell_type": "markdown",
   "metadata": {},
   "source": [
    "La méthode de Newton ne converge pas car elle converge vers l'autres zéro de la fonction $f(x) = x^2 - x - 1$ qui est $\\frac{1 - \\sqrt{5}}{2}$.\n",
    "\n",
    "En effet, $\\frac{f(0)}{df(0)} = 1$ donc $x_1 = - 1 < 0$ et ainsi de suite, la suite $(x_n)_n$ s'éloignant de $\\varphi$."
   ]
  },
  {
   "cell_type": "code",
   "execution_count": 5,
   "metadata": {},
   "outputs": [
    {
     "data": {
      "image/png": "[encoded data removed]",
      "text/plain": [
       "<Figure size 1440x576 with 1 Axes>"
      ]
     },
     "metadata": {
      "needs_background": "light"
     },
     "output_type": "display_data"
    }
   ],
   "source": [
    "import numpy as np\n",
    "import matplotlib.pyplot as plt\n",
    "%matplotlib inline\n",
    "\n",
    "def f(y):\n",
    "    return y ** 2 - y - 1\n",
    "\n",
    "def df(y):\n",
    "    return 2 * y - 1\n",
    "\n",
    "plt.figure(figsize=(20, 8))\n",
    "plt.plot(np.linspace(-2, 3.5, 1000), f(np.linspace(-2, 3.5, 1000)), label='f')\n",
    "plt.hlines(0, -2, 3.5, color='k')\n",
    "\n",
    "for color, x0 in zip(('r', 'g'), (3, 0)):\n",
    "    \n",
    "    # On affiche x0\n",
    "    plt.vlines(x0, 0, f(x0), color=color)\n",
    "    if f(x0) > 0:\n",
    "        plt.text(x0, - 0.4, r'$x_{0}$', fontsize=20, color=color)\n",
    "    else:\n",
    "        plt.text(x0, 0.2, r'$x_{0}$', fontsize=20, color=color)\n",
    "\n",
    "    # On affiche x_i pour i allant de 1 à 4\n",
    "    for i in range(1, 3):\n",
    "        x0 -= f(x0) / df(x0)\n",
    "        plt.vlines(x0, 0, f(x0), color=color)\n",
    "        if f(x0) > 0:\n",
    "            plt.text(x0, - 0.4, r'$x_{:}$'.format(i), fontsize=20, color=color)\n",
    "        else:\n",
    "            plt.text(x0, 0.2, r'$x_{:}$'.format(i), fontsize=20, color=color)\n",
    "    \n",
    "plt.legend(loc='best', fontsize=22);"
   ]
  },
  {
   "cell_type": "markdown",
   "metadata": {},
   "source": [
    "\n",
    "\n",
    "\n",
    "<!-- --- end exercise --- -->\n",
    "\n",
    "\n",
    "\n",
    "\n",
    "<!-- --- begin exercise --- -->\n",
    "\n",
    "# Exercice 2: Matrice de Vandermonde\n",
    "\n",
    "Soit $p, n\\in \\mathbb{N}^*$ et $x := (x_1, \\ldots, x_p) \\in \\mathbb{R}^p$, on introduit la matrice $V(x,n)$ définit par:"
   ]
  },
  {
   "cell_type": "markdown",
   "metadata": {},
   "source": [
    "$$\n",
    "V(x,n)=\\begin{pmatrix}\n",
    "1 & x_1 & x_1^2 & \\cdots & x_1^{n-1} & x_1^n \\\\ \n",
    "1 & x_2 & x_2^2 & \\cdots & x_2^{n-1} & x_2^n \\\\ \n",
    "\\vdots & \\vdots& \\vdots & \\ddots & \\vdots & \\vdots\\\\ \n",
    "1 & x_{p-1} & x_{p-1}^2 & \\cdots & x_{p-1}^{n-1} & x_{p-1}^n \\\\ \n",
    "1 & x_p & x_p^2 & \\cdots & x_p^{n-1} & x_p^n\n",
    "\\end{pmatrix}.\n",
    "$$"
   ]
  },
  {
   "cell_type": "markdown",
   "metadata": {},
   "source": [
    "**a)**\n",
    "Écrire une fonction qui construit la matrice $V(x,n)$ élément par élément à l'aide d'une double boucle.\n",
    "\n"
   ]
  },
  {
   "cell_type": "code",
   "execution_count": 6,
   "metadata": {},
   "outputs": [],
   "source": [
    "def vandermonde_1(x, n):\n",
    "\n",
    "    # Récupérer la longueur du vecteur x\n",
    "    p = len(x)\n",
    "    \n",
    "    # Création de la matrice V\n",
    "    V = np.empty((p, n + 1))\n",
    "    \n",
    "    # Remplissage de V avec une double boucle for\n",
    "    for i in range(p):\n",
    "        for j in range(n + 1):\n",
    "            V[i, j] = x[i] ** j\n",
    "\n",
    "    return V"
   ]
  },
  {
   "cell_type": "markdown",
   "metadata": {},
   "source": [
    "\n",
    "**b)**\n",
    "Après avoir établi une relation permettant d'écrire la $k$-ième colonne de $V(x,n)$ uniquement en fonction de $x$ et de $k$, écrire une seconde fonction qui construit la matrice $V(x,n)$ colonne par colonne à l'aide de cette relation.\n",
    "\n"
   ]
  },
  {
   "cell_type": "code",
   "execution_count": 7,
   "metadata": {},
   "outputs": [],
   "source": [
    "def vandermonde_2(x, n):\n",
    "\n",
    "    # Récupérer la longueur du vecteur x\n",
    "    p = len(x)\n",
    "    \n",
    "    # Création de la matrice V\n",
    "    V = np.empty((p, n + 1))\n",
    "    \n",
    "    # Remplissage de V avec une boucle for de manière indépendente\n",
    "    for j in range(n + 1):\n",
    "        V[:, j] = x ** j\n",
    "\n",
    "    return V"
   ]
  },
  {
   "cell_type": "markdown",
   "metadata": {},
   "source": [
    "\n",
    "**c)**\n",
    "Après avoir établi une relation entre la $k$-ième colonne de $V(x,n)$, sa $(k-1)$-ième colonne et le vecteur $x$, écrire une troisième fonction qui construit la matrice $V(x,n)$ colonne par colonne à l'aide de cette relation.\n",
    "\n"
   ]
  },
  {
   "cell_type": "code",
   "execution_count": 8,
   "metadata": {},
   "outputs": [],
   "source": [
    "def vandermonde_3(x, n):\n",
    "\n",
    "    # Récupérer la longueur du vecteur x\n",
    "    p = len(x)\n",
    "    \n",
    "    # Création de la matrice V\n",
    "    V = np.ones((p, n + 1))\n",
    "    \n",
    "    # Remplissage de V avec une boucle for avec la relation de récurrence\n",
    "    for j in range(1, n + 1):\n",
    "        V[:, j] = V[:, j - 1] * x\n",
    "\n",
    "    return V"
   ]
  },
  {
   "cell_type": "markdown",
   "metadata": {},
   "source": [
    "\n",
    "**d)**\n",
    "Comparer les temps d'exécution de ces trois fonctions pour $n=150$, $p=100$ et $x$ généré aléatoirement.\n",
    "\n"
   ]
  },
  {
   "cell_type": "code",
   "execution_count": 9,
   "metadata": {},
   "outputs": [],
   "source": [
    "import numpy as np\n",
    "\n",
    "n, p = 150, 100\n",
    "x = np.random.randn(p)\n",
    "\n",
    "# Calcul des matrices de Vandermonde avec les trois fonctions\n",
    "V1 = vandermonde_1(x, n)\n",
    "V2 = vandermonde_2(x, n)\n",
    "V3 = vandermonde_3(x, n)\n",
    "\n",
    "# On vérifie que les matrices sont identiques pour les trois fonctions\n",
    "np.testing.assert_allclose(V1, V2)\n",
    "np.testing.assert_allclose(V1, V3)\n",
    "np.testing.assert_allclose(V2, V3)"
   ]
  },
  {
   "cell_type": "code",
   "execution_count": 10,
   "metadata": {},
   "outputs": [
    {
     "name": "stdout",
     "output_type": "stream",
     "text": [
      "6.05 ms ± 58.7 µs per loop (mean ± std. dev. of 7 runs, 100 loops each)\n"
     ]
    }
   ],
   "source": [
    "%timeit vandermonde_1(x, n)"
   ]
  },
  {
   "cell_type": "code",
   "execution_count": 11,
   "metadata": {},
   "outputs": [
    {
     "name": "stdout",
     "output_type": "stream",
     "text": [
      "519 µs ± 13.8 µs per loop (mean ± std. dev. of 7 runs, 1000 loops each)\n"
     ]
    }
   ],
   "source": [
    "%timeit vandermonde_2(x, n)"
   ]
  },
  {
   "cell_type": "code",
   "execution_count": 12,
   "metadata": {},
   "outputs": [
    {
     "name": "stdout",
     "output_type": "stream",
     "text": [
      "249 µs ± 7.61 µs per loop (mean ± std. dev. of 7 runs, 1000 loops each)\n"
     ]
    }
   ],
   "source": [
    "%timeit vandermonde_3(x, n)"
   ]
  },
  {
   "cell_type": "markdown",
   "metadata": {},
   "source": [
    "\n",
    "\n",
    "<!-- --- end exercise --- -->\n",
    "\n",
    "\n",
    "\n",
    "\n",
    "<!-- --- begin exercise --- -->\n",
    "\n",
    "# Exercice 3: Reconnaissance de chiffres manuscrits\n",
    "\n",
    "Le but de cet exercice est d'écrire un programme de classification d'image de chiffres manuscrits.\n",
    "Ceci fut l'une des premières applications industrielles du machine learning à la lecture automatique des chèques ou des codes postaux.\n",
    "\n",
    "Les instructions suivantes permettent de charger un jeu de données de chiffres manuscrits numérisés disponible dans le package `scikit-learn` (nom d'import `sklearn`):"
   ]
  },
  {
   "cell_type": "code",
   "execution_count": 13,
   "metadata": {},
   "outputs": [],
   "source": [
    "from sklearn.datasets import load_digits\n",
    "digits = load_digits()\n",
    "X, y = digits.data, digits.target"
   ]
  },
  {
   "cell_type": "markdown",
   "metadata": {},
   "source": [
    "Ainsi `X`  est un tableau Numpy qui contient de nombreux exemples de chiffres manuscrits numérisées en image de 8x8 pixels stockés sous la forme de tableau de 64 nombres entiers stockés en flottants.\n",
    "La variable `y` contient l'entier entre 0 et 9 correspondant au chiffre numérisé. On parle de *label*.\n",
    "\n",
    "\n",
    "**a)**\n",
    "Quelle commande Python permet de connaître les dimensions de `X` et `y` et ainsi de connaître le nombre d'exemples contenus dans la base de données?\n",
    "\n"
   ]
  },
  {
   "cell_type": "code",
   "execution_count": 14,
   "metadata": {},
   "outputs": [
    {
     "name": "stdout",
     "output_type": "stream",
     "text": [
      "Dimensions de X = (1797, 64)\n",
      "Dimensions de y = (1797,)\n"
     ]
    }
   ],
   "source": [
    "print(\"Dimensions de X =\", X.shape)\n",
    "print(\"Dimensions de y =\", y.shape)"
   ]
  },
  {
   "cell_type": "markdown",
   "metadata": {},
   "source": [
    "\n",
    "**b)**\n",
    "Afficher à l'aide de la commande `print` les données contenus dans `X` associées à l'indice `idx=12`? Il s'agit donc de la douzième ligne du tableau `X`.\n",
    "\n"
   ]
  },
  {
   "cell_type": "code",
   "execution_count": 15,
   "metadata": {},
   "outputs": [
    {
     "name": "stdout",
     "output_type": "stream",
     "text": [
      "[ 0.  0.  5. 12.  1.  0.  0.  0.  0.  0. 15. 14.  7.  0.  0.  0.  0.  0.\n",
      " 13.  1. 12.  0.  0.  0.  0.  2. 10.  0. 14.  0.  0.  0.  0.  0.  2.  0.\n",
      " 16.  1.  0.  0.  0.  0.  0.  6. 15.  0.  0.  0.  0.  0.  9. 16. 15.  9.\n",
      "  8.  2.  0.  0.  3. 11.  8. 13. 12.  4.]\n"
     ]
    }
   ],
   "source": [
    "print(X[12])"
   ]
  },
  {
   "cell_type": "markdown",
   "metadata": {},
   "source": [
    "\n",
    "**c)**\n",
    "À l'aide des fonctions `reshape` de Numpy et `imshow` de Matplotlib afficher l'image d'indice `idx=12`.\n",
    "Il est possible d'utiliser l'argument `cmap='gray'` dans l'appel de `imshow` pour afficher le résultat en niveau de gris.\n",
    "Quel chiffre est ainsi codé?\n",
    "\n"
   ]
  },
  {
   "cell_type": "code",
   "execution_count": 16,
   "metadata": {},
   "outputs": [
    {
     "data": {
      "text/plain": [
       "<matplotlib.image.AxesImage at 0x1a19a392b0>"
      ]
     },
     "execution_count": 16,
     "metadata": {},
     "output_type": "execute_result"
    },
    {
     "data": {
      "image/png": "[encoded data removed]",
      "text/plain": [
       "<Figure size 432x288 with 1 Axes>"
      ]
     },
     "metadata": {
      "needs_background": "light"
     },
     "output_type": "display_data"
    }
   ],
   "source": [
    "import matplotlib.pyplot as plt\n",
    "%matplotlib inline\n",
    "\n",
    "plt.imshow(X[12].reshape(8, 8), cmap='gray')"
   ]
  },
  {
   "cell_type": "markdown",
   "metadata": {},
   "source": [
    "C'est un 2, mais ce n'est pas évident, donc on peut vérifier le label. "
   ]
  },
  {
   "cell_type": "code",
   "execution_count": 17,
   "metadata": {},
   "outputs": [
    {
     "data": {
      "text/plain": [
       "2"
      ]
     },
     "execution_count": 17,
     "metadata": {},
     "output_type": "execute_result"
    }
   ],
   "source": [
    "y[12]"
   ]
  },
  {
   "cell_type": "markdown",
   "metadata": {},
   "source": [
    "\n",
    "Pour chacune des classes de chiffre (de 0 à 9), on souhaite calculer son centroïde, *i.e.* la représentation \"moyenne\" d'une classe.\n",
    "\n",
    "**d)**\n",
    "Comment définir les sous-tableaux de `X` et de `y` correspondant à tous les chiffres 0 numérisés?\n",
    "\n"
   ]
  },
  {
   "cell_type": "code",
   "execution_count": 18,
   "metadata": {},
   "outputs": [],
   "source": [
    "X_0 = X[y == 0]\n",
    "y_0 = y[y == 0]"
   ]
  },
  {
   "cell_type": "markdown",
   "metadata": {},
   "source": [
    "\n",
    "**e)**\n",
    "Pour l'ensemble des 0 de la question précédente, calculer pour chaque pixel la valeur moyenne, afin de définir le \"zéro moyen\".\n",
    "\n"
   ]
  },
  {
   "cell_type": "code",
   "execution_count": 19,
   "metadata": {},
   "outputs": [
    {
     "data": {
      "text/plain": [
       "array([0.00000000e+00, 2.24719101e-02, 4.18539326e+00, 1.30955056e+01,\n",
       "       1.12977528e+01, 2.92696629e+00, 3.37078652e-02, 0.00000000e+00,\n",
       "       0.00000000e+00, 8.87640449e-01, 1.25786517e+01, 1.33707865e+01,\n",
       "       1.14943820e+01, 1.13764045e+01, 9.66292135e-01, 0.00000000e+00,\n",
       "       0.00000000e+00, 3.73033708e+00, 1.42752809e+01, 5.26404494e+00,\n",
       "       2.10112360e+00, 1.21685393e+01, 3.52247191e+00, 0.00000000e+00,\n",
       "       0.00000000e+00, 5.29213483e+00, 1.27134831e+01, 1.99438202e+00,\n",
       "       1.40449438e-01, 9.06179775e+00, 6.44943820e+00, 0.00000000e+00,\n",
       "       0.00000000e+00, 5.87078652e+00, 1.15561798e+01, 8.93258427e-01,\n",
       "       4.49438202e-02, 8.77528090e+00, 7.12359551e+00, 0.00000000e+00,\n",
       "       0.00000000e+00, 3.49438202e+00, 1.32865169e+01, 1.65168539e+00,\n",
       "       1.53370787e+00, 1.13089888e+01, 5.85393258e+00, 0.00000000e+00,\n",
       "       0.00000000e+00, 7.97752809e-01, 1.30561798e+01, 9.96067416e+00,\n",
       "       1.03483146e+01, 1.32528090e+01, 2.41573034e+00, 0.00000000e+00,\n",
       "       0.00000000e+00, 5.61797753e-03, 4.15730337e+00, 1.35617978e+01,\n",
       "       1.33258427e+01, 5.43820225e+00, 2.75280899e-01, 0.00000000e+00])"
      ]
     },
     "execution_count": 19,
     "metadata": {},
     "output_type": "execute_result"
    }
   ],
   "source": [
    "X_0.mean(axis=0)"
   ]
  },
  {
   "cell_type": "markdown",
   "metadata": {},
   "source": [
    "\n",
    "**f)**\n",
    "Pour l'ensemble des chiffres de 0 à 9 tracer sur une même ligne  (à l'aide de la fonction `subplot` de Matplotlib et en initialisant la figure avec `plt.figure(figsize=(20,2))`) l'image moyenne associée:\n",
    "<!-- dom:FIGURE: [fig/reconnaissance-chiffres.png, width=1000 frac=0.8] -->\n",
    "<!-- begin figure -->\n",
    "\n",
    "<p></p>\n",
    "<img src=\"data:image/png;base64,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\" width=1000>\n",
    "\n",
    "<!-- end figure -->\n",
    "\n",
    "\n"
   ]
  },
  {
   "cell_type": "code",
   "execution_count": 20,
   "metadata": {},
   "outputs": [
    {
     "data": {
      "image/png": "[encoded data removed]",
      "text/plain": [
       "<Figure size 1440x144 with 10 Axes>"
      ]
     },
     "metadata": {},
     "output_type": "display_data"
    }
   ],
   "source": [
    "plt.figure(figsize=(20, 2))\n",
    "for i in range(10):\n",
    "    plt.subplot(1, 10, i + 1)\n",
    "    plt.imshow(X[y == i].mean(axis=0).reshape(8, 8), cmap='gray')\n",
    "    plt.title('mean {}'.format(i))\n",
    "    plt.xticks([]);\n",
    "    plt.yticks([]);"
   ]
  },
  {
   "cell_type": "markdown",
   "metadata": {},
   "source": [
    "\n",
    "Finalement, nous allons implémenter notre propre classifieur: pour une nouvelle image de chiffre numérisé, on prédit la classe dont le chiffre moyen est le plus proche.\n",
    "Pour cela on partage notre jeu de données en deux parties de tailles semblables:\n",
    "la première partie servira de données d'entraînement (`X_train` et `y_train`); la seconde partie servira de données de tests (`X_test` et `y_test`).\n",
    "\n",
    "**g)**\n",
    "Définir les variables: `X_train`, `y_train`, `X_test` et `y_test`.\n",
    "\n"
   ]
  },
  {
   "cell_type": "code",
   "execution_count": 21,
   "metadata": {},
   "outputs": [],
   "source": [
    "# Récupérer le nombre d'images et le diviser par deux.\n",
    "# On utilise la division euclidienne pour avoir un entier.\n",
    "n_samples = len(y)\n",
    "half = n_samples // 2\n",
    "\n",
    "# On divise le jeu de données en deux parts égales en coupant à la moitié\n",
    "X_train, y_train, X_test, y_test = X[:half], y[:half], X[half:], y[half:]"
   ]
  },
  {
   "cell_type": "markdown",
   "metadata": {},
   "source": [
    "\n",
    "**h)**\n",
    "Pour chaque chiffre de l'ensemble d'entraînement, calculer les centroïdes (*i.e.* les chiffres moyens) des classes de 0 à 9.\n",
    "On notera la variable contenant l'ensemble des moyennes `centroids_train`.\n",
    "\n"
   ]
  },
  {
   "cell_type": "code",
   "execution_count": 22,
   "metadata": {},
   "outputs": [],
   "source": [
    "# On crée un array de la taille (10, 64)\n",
    "# Le premier axe correspond aux centroïdes\n",
    "# Le second axe correspond aux valeurs des centroïdes\n",
    "centroids_train = np.empty((10, X_train.shape[1]))\n",
    "for i in range(10):\n",
    "    centroids_train[i] = X_train[y_train == i].mean(axis=0)"
   ]
  },
  {
   "cell_type": "markdown",
   "metadata": {},
   "source": [
    "\n",
    "**i)**\n",
    "Pour chaque chiffre de l'ensemble de test (`X_test`), calculer le centroïde appartenant à `centroids_train` le plus proche (dans la norme euclidienne).\n",
    "\n"
   ]
  },
  {
   "cell_type": "code",
   "execution_count": 23,
   "metadata": {},
   "outputs": [],
   "source": [
    "# On calcule la norme euclidienne entre chaque vecteur du jeu de test\n",
    "# et chaque centroïde puis on prend l'argmin.\n",
    "nearest_centroids = np.linalg.norm(X_test[:, None] - centroids_train[None, :], axis=-1).argmin(axis=-1)"
   ]
  },
  {
   "cell_type": "markdown",
   "metadata": {},
   "source": [
    "\n",
    "**j)**\n",
    "Finalement, évaluer si le chiffre ainsi obtenu correspond au vrai chiffre en utilisant `y_test`\n",
    "et en déduire une estimation du pourcentage de bonnes prédictions sur l'ensemble de test.\n",
    "\n"
   ]
  },
  {
   "cell_type": "code",
   "execution_count": 24,
   "metadata": {},
   "outputs": [
    {
     "name": "stdout",
     "output_type": "stream",
     "text": [
      "Pourcentage de bonnes prédictions sur l'ensemble de test = 87.541713%\n"
     ]
    }
   ],
   "source": [
    "print(\"Pourcentage de bonnes prédictions sur l'ensemble de test = {:%}\"\n",
    "      .format((y_test == nearest_centroids).mean()))"
   ]
  }
 ],
 "metadata": {
  "kernelspec": {
   "display_name": "Python 3",
   "language": "python",
   "name": "python3"
  },
  "language_info": {
   "codemirror_mode": {
    "name": "ipython",
    "version": 3
   },
   "file_extension": ".py",
   "mimetype": "text/x-python",
   "name": "python",
   "nbconvert_exporter": "python",
   "pygments_lexer": "ipython3",
   "version": "3.7.3"
  }
 },
 "nbformat": 4,
 "nbformat_minor": 4
}
