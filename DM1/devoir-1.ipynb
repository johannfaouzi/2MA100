{
 "cells": [
  {
   "cell_type": "markdown",
   "metadata": {},
   "source": [
    "<!-- dom:TITLE: 2MA100 - Devoir Maison 1 -->\n",
    "# 2MA100 - Devoir Maison 1\n",
    "<!-- dom:AUTHOR: Sorbonne Université - 2 mars 2020 -->\n",
    "<!-- Author: -->  \n",
    "**Sorbonne Université - 2 mars 2020**\n",
    "\n",
    "Les exercices de ce devoir maison noté sur 20 points doivent être rendus au choix au format **Notebook** (`.ipynb`) ou **Script** (`.py`) en un ou plusieurs fichiers au plus tard le **13 mars 2020** à 23h59 sur [moodle](https://moodle-sciences.upmc.fr/moodle-2019/).\n",
    "\n",
    "\n",
    "**Attention Plagiat !**\n",
    "\n",
    "\n",
    "Les devoirs maisons doivent être codés et rendus de manière individuelle. A titre d'information,\n",
    "voici une définition du plagiat adaptée du [Memento de l'Université de Genève](https://memento.unige.ch/doc/0008/) :\n",
    "\n",
    "*Le plagiat consiste à insérer, dans un travail académique, des formulations, des\n",
    "phrases, des passages, des morceaux de code, des images, de même que des idées ou\n",
    "analyses repris de travaux d'autres auteurs, en les faisant passer pour siens.*\n",
    "\n",
    "En particulier, le copier-coller à partir de sources trouvées sur Internet ou sur des travaux d'autres\n",
    "étudiant·es sans citer les sources est considéré comme du plagiat et implique une note zéro.\n",
    "Le plagiat constitue également une tentative de tricherie sanctionnée par\n",
    "le règlement de l'université. La solution est d'indiquer dans vos devoirs tout de ce qui ne vient\n",
    "pas de vous en mentionnant les sources (page Internet, livres, autre étudiant·e,...). Tout les\n",
    "fichiers rendus seront analysés automatiquement avec un logiciel de détection des similarités\n",
    "(entre étudiant·es et depuis Internet).\n",
    "\n",
    "\n",
    "\n",
    "\n",
    "\n",
    "<!-- --- begin exercise --- -->\n",
    "\n",
    "# Exercice 1: Nombre d'or\n",
    "\n",
    "On s'intéresse ici à une approximation du nombre d'or, $\\varphi = \\dfrac{1+\\sqrt{5}}{2}$.\n",
    "\n",
    "On définit tout d'abord la suite $(F_n)_{n\\geqslant0}$ par $F_0=F_1=1$ et $F_{n}=F_{n-1}+F_{n-2}$ pour $n\\ge 2$. On a alors le résultat suivant,"
   ]
  },
  {
   "cell_type": "markdown",
   "metadata": {},
   "source": [
    "$$\n",
    "\\lim_{n \\rightarrow +\\infty} \\dfrac{F_{n+1}}{F_{n}} = \\varphi.\n",
    "$$"
   ]
  },
  {
   "cell_type": "markdown",
   "metadata": {},
   "source": [
    "**a)**\n",
    "Écrire une fonction `Fibo(epsilon)` qui, à $\\varepsilon$ précision donnée, renvoie le plus petit entier $n$ tel que $\\left| \\varphi - \\dfrac{F_{n+1}}{F_{n}} \\right| < \\varepsilon$.\n",
    "\n"
   ]
  },
  {
   "cell_type": "markdown",
   "metadata": {},
   "source": [
    "\n",
    "On souligne également que $\\varphi$ est l'unique solution positive de l'équation $x^2-x-1=0$.\n",
    "\n",
    "**b)**\n",
    "Écrire une nouvelle fonction `Newton(epsilon, x0)` qui, à $\\varepsilon$ précision donnée, renvoie le plus petit entier $k$\n",
    " tel que $\\left| \\varphi - x_k \\right| < \\varepsilon$ où $x_k$ est déterminé par la méthode de Newton appliquée à $f(x)=x^2-x-1$ dont on rappelle le principe:"
   ]
  },
  {
   "cell_type": "markdown",
   "metadata": {},
   "source": [
    "$$\n",
    "x_{k+1} = x_k - \\dfrac{f(x_k)}{f^\\prime(x_k)} \\,, \\quad k \\ge 0.\n",
    "$$"
   ]
  },
  {
   "cell_type": "markdown",
   "metadata": {},
   "source": [
    "En pratique on choisira $x_0=3$.\n",
    "\n"
   ]
  },
  {
   "cell_type": "markdown",
   "metadata": {},
   "source": [
    "\n",
    "**c)**\n",
    "Pour $\\varepsilon = 10^{-i}$ et $i \\in \\{2, 4, 6, 8\\}$ comparer le nombre d'itérations nécessaire entre les deux stratégies proposées pour approximer $\\varphi$ à précision donnée. Quelle stratégie vous semble la plus *efficace* ?\n",
    "\n"
   ]
  },
  {
   "cell_type": "markdown",
   "metadata": {},
   "source": [
    "\n",
    "**d)**\n",
    "Et qu'en est-il si on initialise la méthode de Newton par $x_0=0$ ?\n",
    "\n",
    "\n",
    "<!-- --- end exercise --- -->\n",
    "\n",
    "\n",
    "\n",
    "\n",
    "<!-- --- begin exercise --- -->\n",
    "\n",
    "# Exercice 2: Matrice de Vandermonde\n",
    "\n",
    "Soit $p, n\\in \\mathbb{N}^*$ et $x := (x_1, \\ldots, x_p) \\in \\mathbb{R}^p$, on introduit la matrice $V(x,n)$ définit par:"
   ]
  },
  {
   "cell_type": "markdown",
   "metadata": {},
   "source": [
    "$$\n",
    "V(x,n)=\\begin{pmatrix}\n",
    "1 & x_1 & x_1^2 & \\cdots & x_1^{n-1} & x_1^n \\\\ \n",
    "1 & x_2 & x_2^2 & \\cdots & x_2^{n-1} & x_2^n \\\\ \n",
    "\\vdots & \\vdots& \\vdots & \\ddots & \\vdots & \\vdots\\\\ \n",
    "1 & x_{p-1} & x_{p-1}^2 & \\cdots & x_{p-1}^{n-1} & x_{p-1}^n \\\\ \n",
    "1 & x_p & x_p^2 & \\cdots & x_p^{n-1} & x_p^n\n",
    "\\end{pmatrix}.\n",
    "$$"
   ]
  },
  {
   "cell_type": "markdown",
   "metadata": {},
   "source": [
    "**a)**\n",
    "Écrire une fonction qui construit la matrice $V(x,n)$ élément par élément à l'aide d'une double boucle.\n",
    "\n"
   ]
  },
  {
   "cell_type": "markdown",
   "metadata": {},
   "source": [
    "\n",
    "**b)**\n",
    "Après avoir établi une relation permettant d'écrire la $k$-ième colonne de $V(x,n)$ uniquement en fonction de $x$ et de $k$, écrire une seconde fonction qui construit la matrice $V(x,n)$ colonne par colonne à l'aide de cette relation.\n",
    "\n"
   ]
  },
  {
   "cell_type": "markdown",
   "metadata": {},
   "source": [
    "\n",
    "**c)**\n",
    "Après avoir établi une relation entre la $k$-ième colonne de $V(x,n)$, sa $(k-1)$-ième colonne et le vecteur $x$, écrire une troisième fonction qui construit la matrice $V(x,n)$ colonne par colonne à l'aide de cette relation.\n",
    "\n"
   ]
  },
  {
   "cell_type": "markdown",
   "metadata": {},
   "source": [
    "\n",
    "**d)**\n",
    "Comparer les temps d'exécution de ces trois fonctions pour $n=150$, $p=100$ et $x$ généré aléatoirement.\n",
    "\n"
   ]
  },
  {
   "cell_type": "markdown",
   "metadata": {},
   "source": [
    "\n",
    "\n",
    "<!-- --- end exercise --- -->\n",
    "\n",
    "\n",
    "\n",
    "\n",
    "<!-- --- begin exercise --- -->\n",
    "\n",
    "# Exercice 3: Reconnaissance de chiffres manuscrits\n",
    "\n",
    "Le but de cet exercice est d'écrire un programme de classification d'image de chiffres manuscrits.\n",
    "Ceci fut l'une des premières applications industrielles du machine learning à la lecture automatique des chèques ou des codes postaux.\n",
    "\n",
    "Les instructions suivantes permettent de charger un jeu de données de chiffres manuscrits numérisés disponible dans le package `scikit-learn` (nom d'import `sklearn`):"
   ]
  },
  {
   "cell_type": "code",
   "execution_count": 11,
   "metadata": {
    "collapsed": false
   },
   "outputs": [],
   "source": [
    "from sklearn.datasets import load_digits\n",
    "digits = load_digits()\n",
    "X, y = digits.data, digits.target"
   ]
  },
  {
   "cell_type": "markdown",
   "metadata": {},
   "source": [
    "Ainsi `X`  est un tableau Numpy qui contient de nombreux exemples de chiffres manuscrits numérisées en image de 8x8 pixels stockés sous la forme de tableau de 64 nombres entiers stockés en flottants.\n",
    "La variable `y` contient l'entier entre 0 et 9 correspondant au chiffre numérisé. On parle de *label*.\n",
    "\n",
    "\n",
    "**a)**\n",
    "Quelle commande Python permet de connaître les dimensions de `X` et `y` et ainsi de connaître le nombre d'exemples contenus dans la base de données?\n",
    "\n"
   ]
  },
  {
   "cell_type": "markdown",
   "metadata": {},
   "source": [
    "\n",
    "**b)**\n",
    "Afficher à l'aide de la commande `print` les données contenus dans `X` associées à l'indice `idx=12`? Il s'agit donc de la douzième ligne du tableau `X`.\n",
    "\n"
   ]
  },
  {
   "cell_type": "markdown",
   "metadata": {},
   "source": [
    "\n",
    "**c)**\n",
    "À l'aide des fonctions `reshape` de Numpy et `imshow` de Matplotlib afficher l'image d'indice `idx=12`.\n",
    "Il est possible d'utiliser l'argument `cmap='gray'` dans l'appel de `imshow` pour afficher le résultat en niveau de gris.\n",
    "Quel chiffre est ainsi codé?\n",
    "\n"
   ]
  },
  {
   "cell_type": "markdown",
   "metadata": {},
   "source": [
    "\n",
    "Pour chacune des classes de chiffre (de 0 à 9), on souhaite calculer son centroïde, *i.e.* la représentation \"moyenne\" d'une classe.\n",
    "\n",
    "**d)**\n",
    "Comment définir les sous-tableaux de `X` et de `y` correspondant à tous les chiffres 0 numérisés?\n",
    "\n"
   ]
  },
  {
   "cell_type": "markdown",
   "metadata": {},
   "source": [
    "\n",
    "**e)**\n",
    "Pour l'ensemble des 0 de la question précédente, calculer pour chaque pixel la valeur moyenne, afin de définir le \"zéro moyen\".\n",
    "\n"
   ]
  },
  {
   "cell_type": "markdown",
   "metadata": {},
   "source": [
    "\n",
    "**f)**\n",
    "Pour l'ensemble des chiffres de 0 à 9 tracer sur une même ligne  (à l'aide de la fonction `subplot` de Matplotlib et en initialisant la figure avec `plt.figure(figsize=(20,2))`) l'image moyenne associée:\n",
    "<!-- dom:FIGURE: [fig/reconnaissance-chiffres.png, width=1000 frac=0.8] -->\n",
    "<!-- begin figure -->\n",
    "\n",
    "<p></p>\n",
    "<img src=\"data:image/png;base64,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\" width=1000>\n",
    "\n",
    "<!-- end figure -->\n",
    "\n",
    "\n"
   ]
  },
  {
   "cell_type": "markdown",
   "metadata": {},
   "source": [
    "\n",
    "Finalement, nous allons implémenter notre propre classifieur: pour une nouvelle image de chiffre numérisé, on prédit la classe dont le chiffre moyen est le plus proche.\n",
    "Pour cela on partage notre jeu de données en deux parties de tailles semblables:\n",
    "la première partie servira de données d'entraînement (`X_train` et `y_train`); la seconde partie servira de données de tests (`X_test` et `y_test`).\n",
    "\n",
    "**g)**\n",
    "Définir les variables: `X_train`, `y_train`, `X_test` et `y_test`.\n",
    "\n"
   ]
  },
  {
   "cell_type": "markdown",
   "metadata": {},
   "source": [
    "\n",
    "**h)**\n",
    "Pour chaque chiffre de l'ensemble d'entraînement, calculer les centroïdes (*i.e.* les chiffres moyens) des classes de 0 à 9.\n",
    "On notera la variable contenant l'ensemble des moyennes `centroids_train`.\n",
    "\n"
   ]
  },
  {
   "cell_type": "markdown",
   "metadata": {},
   "source": [
    "\n",
    "**i)**\n",
    "Pour chaque chiffre de l'ensemble de test (`X_test`), calculer le centroïde appartenant à `centroids_train` le plus proche (dans la norme euclidienne).\n",
    "\n"
   ]
  },
  {
   "cell_type": "markdown",
   "metadata": {},
   "source": [
    "\n",
    "**j)**\n",
    "Finalement, évaluer si le chiffre ainsi obtenu correspond au vrai chiffre en utilisant `y_test`\n",
    "et en déduire une estimation du pourcentage de bonnes prédictions sur l'ensemble de test.\n",
    "\n"
   ]
  },
  {
   "cell_type": "markdown",
   "metadata": {},
   "source": [
    "\n",
    "<!-- --- end exercise --- -->"
   ]
  }
 ],
 "metadata": {
  "kernelspec": {
   "display_name": "Python [default]",
   "language": "python",
   "name": "python3"
  },
  "language_info": {
   "codemirror_mode": {
    "name": "ipython",
    "version": 3
   },
   "file_extension": ".py",
   "mimetype": "text/x-python",
   "name": "python",
   "nbconvert_exporter": "python",
   "pygments_lexer": "ipython3",
   "version": "3.5.2"
  }
 },
 "nbformat": 4,
 "nbformat_minor": 4
}